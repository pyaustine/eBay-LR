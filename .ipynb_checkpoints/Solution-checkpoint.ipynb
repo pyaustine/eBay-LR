{
 "cells": [
  {
   "cell_type": "markdown",
   "metadata": {},
   "source": [
    "# Chapter 10: Logistic Regression (LR)"
   ]
  },
  {
   "cell_type": "markdown",
   "metadata": {},
   "source": [
    "\n",
    "> (c) 2019-2020 Galit Shmueli, Peter C. Bruce, Peter Gedeck \n",
    ">\n",
    "> _Data Mining for Business Analytics: Concepts, Techniques, and Applications in Python_ (First Edition) \n",
    "> Galit Shmueli, Peter C. Bruce, Peter Gedeck, and Nitin R. Patel. 2019.\n",
    ">\n",
    "> Date: 2020-03-09\n",
    ">\n",
    "> Python Version: 3.8.2\n",
    "> Jupyter Notebook Version: 5.6.1\n",
    ">\n",
    "> Packages:\n",
    ">   - dmba: 0.0.12\n",
    ">   - matplotlib: 3.2.0\n",
    ">   - numpy: 1.18.1\n",
    ">   - pandas: 1.0.1\n",
    ">   - scikit-learn: 0.22.2\n",
    ">\n",
    "> The assistance from Mr. Kuber Deokar and Ms. Anuja Kulkarni in preparing these solutions is gratefully acknowledged.\n"
   ]
  },
  {
   "cell_type": "code",
   "execution_count": 1,
   "metadata": {},
   "outputs": [],
   "source": [
    "# Import required packages for this chapter\n",
    "from pathlib import Path\n",
    "import math\n",
    "\n",
    "import numpy as np\n",
    "import pandas as pd\n",
    "from sklearn.model_selection import train_test_split\n",
    "from sklearn.linear_model import LogisticRegression, LogisticRegressionCV\n",
    "from sklearn.metrics import accuracy_score\n",
    "\n",
    "import matplotlib.pylab as plt\n",
    "\n",
    "from dmba import classificationSummary\n",
    "from dmba import AIC_score\n",
    "from dmba import backward_elimination, forward_selection, stepwise_selection\n",
    "\n",
    "%matplotlib inline"
   ]
  },
  {
   "cell_type": "code",
   "execution_count": 2,
   "metadata": {},
   "outputs": [],
   "source": [
    "# Working directory:\n",
    "#\n",
    "# We assume that data are kept in the same directory as the notebook. If you keep your \n",
    "# data in a different folder, replace the argument of the `Path`\n",
    "DATA = Path('./../dmba')\n",
    "# and then load data using \n",
    "#\n",
    "# pd.read_csv(DATA / ‘filename.csv’)"
   ]
  },
  {
   "cell_type": "markdown",
   "metadata": {},
   "source": [
    "# Problem 10.1 Financial Condition of Banks.\n",
    "\n",
    "The file _Banks.csv_ includes data on a sample of 20 banks. The \"Financial Condition\" column records the judgement of an expert on the financial condition of each bank. This outcome variable takes one of two possible values -- _weak_ or _strong_-- according to the financial condition of the bank. The predictors are two ratios used in the financial analysis of banks: TotLns&Lses/Assets is the ratio of total loans and leases to total assets and TotExp/Assets is the ratio of total expenses to total assets. The target is to use the two ratios for classifying the financial condition of a new bank.\n",
    "\n",
    "Run a logistic regression model (on the entire dataset) that model the status of a bank as a function of the two financial measures provided. Specify the _success_ class as _weak_ (this is similar to creating a dummy that is 1 for financially weak banks and 0 otherwise), and use the default cutoff value of 0.5."
   ]
  },
  {
   "cell_type": "code",
   "execution_count": 3,
   "metadata": {},
   "outputs": [
    {
     "data": {
      "text/html": [
       "<div>\n",
       "<style scoped>\n",
       "    .dataframe tbody tr th:only-of-type {\n",
       "        vertical-align: middle;\n",
       "    }\n",
       "\n",
       "    .dataframe tbody tr th {\n",
       "        vertical-align: top;\n",
       "    }\n",
       "\n",
       "    .dataframe thead th {\n",
       "        text-align: right;\n",
       "    }\n",
       "</style>\n",
       "<table border=\"1\" class=\"dataframe\">\n",
       "  <thead>\n",
       "    <tr style=\"text-align: right;\">\n",
       "      <th></th>\n",
       "      <th>Obs</th>\n",
       "      <th>Financial Condition</th>\n",
       "      <th>TotCap/Assets</th>\n",
       "      <th>TotExp/Assets</th>\n",
       "      <th>TotLns&amp;Lses/Assets</th>\n",
       "    </tr>\n",
       "  </thead>\n",
       "  <tbody>\n",
       "    <tr>\n",
       "      <th>0</th>\n",
       "      <td>1</td>\n",
       "      <td>1</td>\n",
       "      <td>9.7</td>\n",
       "      <td>0.12</td>\n",
       "      <td>0.65</td>\n",
       "    </tr>\n",
       "    <tr>\n",
       "      <th>1</th>\n",
       "      <td>2</td>\n",
       "      <td>1</td>\n",
       "      <td>1.0</td>\n",
       "      <td>0.11</td>\n",
       "      <td>0.62</td>\n",
       "    </tr>\n",
       "    <tr>\n",
       "      <th>2</th>\n",
       "      <td>3</td>\n",
       "      <td>1</td>\n",
       "      <td>6.9</td>\n",
       "      <td>0.09</td>\n",
       "      <td>1.02</td>\n",
       "    </tr>\n",
       "    <tr>\n",
       "      <th>3</th>\n",
       "      <td>4</td>\n",
       "      <td>1</td>\n",
       "      <td>5.8</td>\n",
       "      <td>0.10</td>\n",
       "      <td>0.67</td>\n",
       "    </tr>\n",
       "    <tr>\n",
       "      <th>4</th>\n",
       "      <td>5</td>\n",
       "      <td>1</td>\n",
       "      <td>4.3</td>\n",
       "      <td>0.11</td>\n",
       "      <td>0.69</td>\n",
       "    </tr>\n",
       "  </tbody>\n",
       "</table>\n",
       "</div>"
      ],
      "text/plain": [
       "   Obs  Financial Condition  TotCap/Assets  TotExp/Assets  TotLns&Lses/Assets\n",
       "0    1                    1            9.7           0.12                0.65\n",
       "1    2                    1            1.0           0.11                0.62\n",
       "2    3                    1            6.9           0.09                1.02\n",
       "3    4                    1            5.8           0.10                0.67\n",
       "4    5                    1            4.3           0.11                0.69"
      ]
     },
     "execution_count": 3,
     "metadata": {},
     "output_type": "execute_result"
    }
   ],
   "source": [
    "# load the data\n",
    "bank_df = pd.read_csv(DATA / 'banks.csv')\n",
    "\n",
    "# cheack few records\n",
    "bank_df.head()"
   ]
  },
  {
   "cell_type": "code",
   "execution_count": 4,
   "metadata": {},
   "outputs": [
    {
     "data": {
      "text/html": [
       "<div>\n",
       "<style scoped>\n",
       "    .dataframe tbody tr th:only-of-type {\n",
       "        vertical-align: middle;\n",
       "    }\n",
       "\n",
       "    .dataframe tbody tr th {\n",
       "        vertical-align: top;\n",
       "    }\n",
       "\n",
       "    .dataframe thead th {\n",
       "        text-align: right;\n",
       "    }\n",
       "</style>\n",
       "<table border=\"1\" class=\"dataframe\">\n",
       "  <thead>\n",
       "    <tr style=\"text-align: right;\">\n",
       "      <th></th>\n",
       "      <th>Financial_Condition</th>\n",
       "      <th>TotExp_Assets</th>\n",
       "      <th>TotLnsLses_Assets</th>\n",
       "    </tr>\n",
       "  </thead>\n",
       "  <tbody>\n",
       "    <tr>\n",
       "      <th>0</th>\n",
       "      <td>1</td>\n",
       "      <td>0.12</td>\n",
       "      <td>0.65</td>\n",
       "    </tr>\n",
       "    <tr>\n",
       "      <th>1</th>\n",
       "      <td>1</td>\n",
       "      <td>0.11</td>\n",
       "      <td>0.62</td>\n",
       "    </tr>\n",
       "    <tr>\n",
       "      <th>2</th>\n",
       "      <td>1</td>\n",
       "      <td>0.09</td>\n",
       "      <td>1.02</td>\n",
       "    </tr>\n",
       "    <tr>\n",
       "      <th>3</th>\n",
       "      <td>1</td>\n",
       "      <td>0.10</td>\n",
       "      <td>0.67</td>\n",
       "    </tr>\n",
       "    <tr>\n",
       "      <th>4</th>\n",
       "      <td>1</td>\n",
       "      <td>0.11</td>\n",
       "      <td>0.69</td>\n",
       "    </tr>\n",
       "  </tbody>\n",
       "</table>\n",
       "</div>"
      ],
      "text/plain": [
       "   Financial_Condition  TotExp_Assets  TotLnsLses_Assets\n",
       "0                    1           0.12               0.65\n",
       "1                    1           0.11               0.62\n",
       "2                    1           0.09               1.02\n",
       "3                    1           0.10               0.67\n",
       "4                    1           0.11               0.69"
      ]
     },
     "execution_count": 4,
     "metadata": {},
     "output_type": "execute_result"
    }
   ],
   "source": [
    "# pretify the variable names\n",
    "bank_df.columns = [c.replace(' ', '_') for c in bank_df.columns]\n",
    "bank_df.columns = [c.replace('&', '') for c in bank_df.columns]\n",
    "bank_df.columns = [c.replace('/', '_') for c in bank_df.columns]\n",
    "\n",
    "# drop unwanted variables\n",
    "bank_df.drop(columns = ['Obs','TotCap_Assets'], inplace = True)\n",
    "bank_df.head()"
   ]
  },
  {
   "cell_type": "code",
   "execution_count": 5,
   "metadata": {},
   "outputs": [
    {
     "data": {
      "text/plain": [
       "LogisticRegression(C=1e+42, class_weight=None, dual=False, fit_intercept=True,\n",
       "                   intercept_scaling=1, l1_ratio=None, max_iter=100,\n",
       "                   multi_class='auto', n_jobs=None, penalty='l2',\n",
       "                   random_state=None, solver='liblinear', tol=0.0001, verbose=0,\n",
       "                   warm_start=False)"
      ]
     },
     "execution_count": 5,
     "metadata": {},
     "output_type": "execute_result"
    }
   ],
   "source": [
    "# fit a logistic regression (set penalty=l2 and C=1e42 to avoid regularization)\n",
    "logit_reg = LogisticRegression(penalty=\"l2\", C=1e42, solver='liblinear')\n",
    "y = bank_df['Financial_Condition']\n",
    "X = bank_df.drop(columns=['Financial_Condition'])\n",
    "logit_reg.fit(X, y)"
   ]
  },
  {
   "cell_type": "code",
   "execution_count": 6,
   "metadata": {},
   "outputs": [
    {
     "name": "stdout",
     "output_type": "stream",
     "text": [
      "intercept  -14.720832806179043\n",
      "       TotExp_Assets  TotLnsLses_Assets\n",
      "coeff      89.832567           8.371267\n",
      "AIC 18.705839468305996\n"
     ]
    }
   ],
   "source": [
    "# print coefficients and AIC measures\n",
    "print('intercept ', logit_reg.intercept_[0])\n",
    "print(pd.DataFrame({'coeff': logit_reg.coef_[0]}, index=X.columns).transpose())\n",
    "print('AIC', AIC_score(y, logit_reg.predict(X), df = len(X.columns) + 1))"
   ]
  },
  {
   "cell_type": "markdown",
   "metadata": {},
   "source": [
    "__10.1.a.__ Write the estimated equation that associates the financial condition of a bank with its two predictors in three formats:"
   ]
  },
  {
   "cell_type": "markdown",
   "metadata": {},
   "source": [
    "__10.1.a.i.__ The logit as a function of the predictors"
   ]
  },
  {
   "cell_type": "markdown",
   "metadata": {},
   "source": [
    "__Answer:__"
   ]
  },
  {
   "cell_type": "markdown",
   "metadata": {},
   "source": [
    "# (1)&(2)&(3)??\n",
    "logit = ?? + (?? \\* TotExp_Assets) + (?? \\* TotLnsLses_Assets)"
   ]
  },
  {
   "cell_type": "markdown",
   "metadata": {},
   "source": [
    "__10.1.a.ii.__ The odds as a function of the predictors"
   ]
  },
  {
   "cell_type": "markdown",
   "metadata": {},
   "source": [
    "__Answer__"
   ]
  },
  {
   "cell_type": "markdown",
   "metadata": {},
   "source": [
    "# (4)&(5)&(6)??\n",
    "\n",
    "Odds = e^(logit) = e^(?? + (?? \\* TotExp_Assets) + (?? \\* TotLns&Lses_Assets)"
   ]
  },
  {
   "cell_type": "markdown",
   "metadata": {},
   "source": [
    "__10.1.a.ii.__ The probability as a function of the predictors"
   ]
  },
  {
   "cell_type": "markdown",
   "metadata": {},
   "source": [
    "__Answer:__ "
   ]
  },
  {
   "cell_type": "markdown",
   "metadata": {},
   "source": [
    "# (7)&(8)&(9)?\n",
    "\n",
    "p = (1 + Exp[-(?? + (?? * TotExp/Assets) + (?? * TotLns&Lses/Assets)])^-1"
   ]
  },
  {
   "cell_type": "markdown",
   "metadata": {},
   "source": [
    "__10.1.b.__ Consider a new bank whose total loans and leases/assets ratio = 0.6 and total expenses/assets ratio = 0.11. From your logistic regression model, estimate the following four quantities for this bank (use Python to do all the intermediate calculations; show your final answers to four decimal places): the logit, the odds, the probability of being financially weak, and the classification of the bank (use cutoff = 0.5)."
   ]
  },
  {
   "cell_type": "code",
   "execution_count": 7,
   "metadata": {},
   "outputs": [
    {
     "data": {
      "text/html": [
       "<div>\n",
       "<style scoped>\n",
       "    .dataframe tbody tr th:only-of-type {\n",
       "        vertical-align: middle;\n",
       "    }\n",
       "\n",
       "    .dataframe tbody tr th {\n",
       "        vertical-align: top;\n",
       "    }\n",
       "\n",
       "    .dataframe thead th {\n",
       "        text-align: right;\n",
       "    }\n",
       "</style>\n",
       "<table border=\"1\" class=\"dataframe\">\n",
       "  <thead>\n",
       "    <tr style=\"text-align: right;\">\n",
       "      <th></th>\n",
       "      <th>TotExp_Assets</th>\n",
       "      <th>TotLns_Lses_Assets</th>\n",
       "    </tr>\n",
       "  </thead>\n",
       "  <tbody>\n",
       "    <tr>\n",
       "      <th>0</th>\n",
       "      <td>0.11</td>\n",
       "      <td>0.6</td>\n",
       "    </tr>\n",
       "  </tbody>\n",
       "</table>\n",
       "</div>"
      ],
      "text/plain": [
       "   TotExp_Assets  TotLns_Lses_Assets\n",
       "0           0.11                 0.6"
      ]
     },
     "execution_count": 7,
     "metadata": {},
     "output_type": "execute_result"
    }
   ],
   "source": [
    "# new record\n",
    "new_bank = pd.DataFrame(\n",
    "    [[0.11, 0.6]],\n",
    "    columns=['TotExp_Assets', 'TotLns_Lses_Assets'])\n",
    "new_bank"
   ]
  },
  {
   "cell_type": "code",
   "execution_count": 8,
   "metadata": {
    "scrolled": true
   },
   "outputs": [
    {
     "name": "stdout",
     "output_type": "stream",
     "text": [
      "logit =  0    0.183509\n",
      "dtype: float64\n",
      "odds =  0.8323443846047233\n",
      "prob =  0.5457489369367221\n"
     ]
    }
   ],
   "source": [
    "# calculate logit, odds and probability of being financially weak\n",
    "# (10)&(11)&(12)??\n",
    "logit_new = ?? + (?? * new_bank.TotExp_Assets) + (?? * new_bank.TotLns_Lses_Assets)\n",
    "print(\"logit = \", logit_new)\n",
    "odds = math.exp(-logit_new)\n",
    "print(\"odds = \", odds)\n",
    "prob = 1/(1+odds)\n",
    "print(\"prob = \", prob)"
   ]
  },
  {
   "cell_type": "markdown",
   "metadata": {},
   "source": [
    "Probability that the new bank is 0.5457 and therefore the predicted class for this new bank is 1, or \"financially week\"."
   ]
  },
  {
   "cell_type": "markdown",
   "metadata": {},
   "source": [
    "__10.1.c.__ The cutoff value of 0.5 is used in conjunction with the probability of being financially weak. Compute the threshold that should be used if we want to make a classification based on the odds of being financially weak, and the threshold for the\n",
    "corresponding logit."
   ]
  },
  {
   "cell_type": "markdown",
   "metadata": {},
   "source": [
    "__Answer:__ "
   ]
  },
  {
   "cell_type": "markdown",
   "metadata": {},
   "source": [
    "Cutoff value of p=0.5.\n",
    "\n",
    "Odds = (p) / (1-p) = (0.5) / (1-0.5) = 1\n",
    "\n",
    "If odds > 1 then classify financial status as \"weak\" (otherwise classify as \"strong\").\n",
    "\n",
    "Logit = ln (odds) = ln (1) = 0\n",
    "\n",
    "If Logit > 0 then classify financial status as \"weak\" (otherwise, classify it as \"strong\")\n",
    "# (13) & (14)??\n",
    "Therefore, a cutoff of 0.5 on the probability of being weak is equivalent to a threshold of ?? on the odds of being weak, and to a threshold of ?? on the logit."
   ]
  },
  {
   "cell_type": "markdown",
   "metadata": {},
   "source": [
    "__10.1.d.__ Interpret the estimated coefficient for the total loans & leases to total assets ratio (TotLns&Lses/Assets) in terms of the odds of being financially weak."
   ]
  },
  {
   "cell_type": "markdown",
   "metadata": {},
   "source": [
    "__Answer:__ "
   ]
  },
  {
   "cell_type": "markdown",
   "metadata": {},
   "source": [
    "# (15)&(16)&(17)??\n",
    "A positive coefficient in the logit model translates into a coefficient larger than 1 in the odds model. In the logit model, the estimated coefficient for total expenses-to-assets ratio is ??. In the odds models, the coefficient is e^?? = 4316. This \n",
    "means that an increase of a unit in total loans and leases-to-assets is associated with an increase in the odds of being financially weak by a factor of ??."
   ]
  },
  {
   "cell_type": "markdown",
   "metadata": {},
   "source": [
    "__10.1.e.__ When a bank that is in poor financial condition is misclassified as financially strong, the misclassification cost is much higher than when a financially strong bank is misclassified as weak. To minimize the expected cost of misclassification, should the cutoff value for classification (which is currently at 0.5) be increased or decreased?"
   ]
  },
  {
   "cell_type": "markdown",
   "metadata": {},
   "source": [
    "__Answer:__ "
   ]
  },
  {
   "cell_type": "markdown",
   "metadata": {},
   "source": [
    "# (18)??\n",
    "In order to minimize the expected cost of misclassification in this case, we need to ?? the cutoff."
   ]
  },
  {
   "cell_type": "markdown",
   "metadata": {},
   "source": [
    "# Problem 10.2 Identifying Good System Administrators. \n",
    "\n",
    "A management consultant is studying the roles played by experience and training in a system administrator’s ability to complete a set of tasks in a specified amount of time. In particular, she is interested in discriminating between administrators who are able to complete given tasks within a specified time and those who are not. Data are collected on the performance of 75 randomly selected administrators. They are stored in the file _SystemAdministrators.csv_.\n",
    "\n",
    "The variable Experience measures months of full-time system administrator experience, while Training measures the number of relevant training credits. The outcome variable Completed is either Yes or No, according to whether or not the administrator\n",
    "completed the tasks."
   ]
  },
  {
   "cell_type": "code",
   "execution_count": 9,
   "metadata": {},
   "outputs": [
    {
     "data": {
      "text/html": [
       "<div>\n",
       "<style scoped>\n",
       "    .dataframe tbody tr th:only-of-type {\n",
       "        vertical-align: middle;\n",
       "    }\n",
       "\n",
       "    .dataframe tbody tr th {\n",
       "        vertical-align: top;\n",
       "    }\n",
       "\n",
       "    .dataframe thead th {\n",
       "        text-align: right;\n",
       "    }\n",
       "</style>\n",
       "<table border=\"1\" class=\"dataframe\">\n",
       "  <thead>\n",
       "    <tr style=\"text-align: right;\">\n",
       "      <th></th>\n",
       "      <th>Experience</th>\n",
       "      <th>Training</th>\n",
       "      <th>Completed task</th>\n",
       "    </tr>\n",
       "  </thead>\n",
       "  <tbody>\n",
       "    <tr>\n",
       "      <th>0</th>\n",
       "      <td>10.9</td>\n",
       "      <td>4</td>\n",
       "      <td>Yes</td>\n",
       "    </tr>\n",
       "    <tr>\n",
       "      <th>1</th>\n",
       "      <td>9.9</td>\n",
       "      <td>4</td>\n",
       "      <td>Yes</td>\n",
       "    </tr>\n",
       "    <tr>\n",
       "      <th>2</th>\n",
       "      <td>10.4</td>\n",
       "      <td>6</td>\n",
       "      <td>Yes</td>\n",
       "    </tr>\n",
       "    <tr>\n",
       "      <th>3</th>\n",
       "      <td>13.7</td>\n",
       "      <td>6</td>\n",
       "      <td>Yes</td>\n",
       "    </tr>\n",
       "    <tr>\n",
       "      <th>4</th>\n",
       "      <td>9.4</td>\n",
       "      <td>8</td>\n",
       "      <td>Yes</td>\n",
       "    </tr>\n",
       "    <tr>\n",
       "      <th>...</th>\n",
       "      <td>...</td>\n",
       "      <td>...</td>\n",
       "      <td>...</td>\n",
       "    </tr>\n",
       "    <tr>\n",
       "      <th>70</th>\n",
       "      <td>5.6</td>\n",
       "      <td>4</td>\n",
       "      <td>No</td>\n",
       "    </tr>\n",
       "    <tr>\n",
       "      <th>71</th>\n",
       "      <td>5.9</td>\n",
       "      <td>8</td>\n",
       "      <td>No</td>\n",
       "    </tr>\n",
       "    <tr>\n",
       "      <th>72</th>\n",
       "      <td>6.4</td>\n",
       "      <td>6</td>\n",
       "      <td>No</td>\n",
       "    </tr>\n",
       "    <tr>\n",
       "      <th>73</th>\n",
       "      <td>3.8</td>\n",
       "      <td>4</td>\n",
       "      <td>No</td>\n",
       "    </tr>\n",
       "    <tr>\n",
       "      <th>74</th>\n",
       "      <td>5.3</td>\n",
       "      <td>4</td>\n",
       "      <td>No</td>\n",
       "    </tr>\n",
       "  </tbody>\n",
       "</table>\n",
       "<p>75 rows × 3 columns</p>\n",
       "</div>"
      ],
      "text/plain": [
       "    Experience  Training Completed task\n",
       "0         10.9         4            Yes\n",
       "1          9.9         4            Yes\n",
       "2         10.4         6            Yes\n",
       "3         13.7         6            Yes\n",
       "4          9.4         8            Yes\n",
       "..         ...       ...            ...\n",
       "70         5.6         4             No\n",
       "71         5.9         8             No\n",
       "72         6.4         6             No\n",
       "73         3.8         4             No\n",
       "74         5.3         4             No\n",
       "\n",
       "[75 rows x 3 columns]"
      ]
     },
     "execution_count": 9,
     "metadata": {},
     "output_type": "execute_result"
    }
   ],
   "source": [
    "# load the data and review some records\n",
    "admin_df = pd.read_csv(DATA / 'SystemAdministrators.csv')\n",
    "admin_df.head()\n",
    "admin_df"
   ]
  },
  {
   "cell_type": "code",
   "execution_count": 10,
   "metadata": {},
   "outputs": [
    {
     "data": {
      "text/plain": [
       "Index(['Experience', 'Training', 'Completed_task'], dtype='object')"
      ]
     },
     "execution_count": 10,
     "metadata": {},
     "output_type": "execute_result"
    }
   ],
   "source": [
    "# preetify the variable names\n",
    "admin_df.columns = [c.replace(' ', '_') for c in admin_df.columns]\n",
    "admin_df.columns"
   ]
  },
  {
   "cell_type": "code",
   "execution_count": 11,
   "metadata": {
    "scrolled": true
   },
   "outputs": [],
   "source": [
    "# convert values of response variable from Yes/No to 0/1\n",
    "admin_df.loc[admin_df.Completed_task == 'Yes', 'Completed_task'] = 1\n",
    "admin_df.loc[admin_df.Completed_task == 'No', 'Completed_task'] = 0"
   ]
  },
  {
   "cell_type": "markdown",
   "metadata": {},
   "source": [
    "__10.2.a.__ Create a scatter plot of Experience vs. Training using color or symbol to distinguish programmers who completed the task from those who did not complete it. Which predictor(s) appear(s) potentially useful for classifying task completion?"
   ]
  },
  {
   "cell_type": "markdown",
   "metadata": {},
   "source": [
    "__Answer:__"
   ]
  },
  {
   "cell_type": "code",
   "execution_count": 12,
   "metadata": {},
   "outputs": [
    {
     "data": {
      "text/plain": [
       "<matplotlib.legend.Legend at 0x119a14730>"
      ]
     },
     "execution_count": 12,
     "metadata": {},
     "output_type": "execute_result"
    },
    {
     "data": {
      "image/png": "[encoded data removed]",
      "text/plain": [
       "<Figure size 432x288 with 1 Axes>"
      ]
     },
     "metadata": {
      "needs_background": "light"
     },
     "output_type": "display_data"
    }
   ],
   "source": [
    "# plot Experience vs. Training \n",
    "fig, ax = plt.subplots()\n",
    "\n",
    "subset = admin_df.loc[admin_df['Completed_task']== 0]\n",
    "ax.scatter(subset.Training, subset.Experience, marker='o', label='No')\n",
    "\n",
    "subset1 = admin_df.loc[admin_df['Completed_task']== 1]\n",
    "ax.scatter(subset1.Training, subset1.Experience, marker='D', label='Yes')\n",
    "\n",
    "plt.xlabel('Training')  # set x-axis label\n",
    "plt.ylabel('Experience')  # set y-axis label\n",
    "    \n",
    "handles, labels = ax.get_legend_handles_labels()\n",
    "ax.legend(handles, labels)"
   ]
  },
  {
   "cell_type": "markdown",
   "metadata": {},
   "source": [
    "From the scatterplot we can observe that programmers who completed the task tend to have more experience. Training, however, does not play much a role in task completion. Therefore, the predictor Experience appears more useful for classifying task completion."
   ]
  },
  {
   "cell_type": "markdown",
   "metadata": {},
   "source": [
    "__10.2.b.__ Run a logistic regression model withboth predictors using the entire dataset as training data. Among those who completd the task, what is the percentage of programmers incorrectly classified as failing to complete the task?"
   ]
  },
  {
   "cell_type": "code",
   "execution_count": 13,
   "metadata": {},
   "outputs": [
    {
     "data": {
      "text/plain": [
       "LogisticRegression(C=1e+42, class_weight=None, dual=False, fit_intercept=True,\n",
       "                   intercept_scaling=1, l1_ratio=None, max_iter=100,\n",
       "                   multi_class='auto', n_jobs=None, penalty='l2',\n",
       "                   random_state=None, solver='liblinear', tol=0.0001, verbose=0,\n",
       "                   warm_start=False)"
      ]
     },
     "execution_count": 13,
     "metadata": {},
     "output_type": "execute_result"
    }
   ],
   "source": [
    "# fit a logistic regression (set penalty=l2 and C=1e42 to avoid regularization)\n",
    "admin_df.Completed_task = admin_df.Completed_task.astype('category')\n",
    "logit_reg = LogisticRegression(penalty=\"l2\", C=1e42, solver='liblinear')\n",
    "y = admin_df['Completed_task']\n",
    "X = admin_df.drop(columns=['Completed_task'])\n",
    "classes = list(y.cat.categories)\n",
    "logit_reg.fit(X, y)"
   ]
  },
  {
   "cell_type": "code",
   "execution_count": 14,
   "metadata": {},
   "outputs": [],
   "source": [
    "# predicted y\n",
    "y_pred = logit_reg.predict(X)"
   ]
  },
  {
   "cell_type": "code",
   "execution_count": 15,
   "metadata": {},
   "outputs": [
    {
     "name": "stdout",
     "output_type": "stream",
     "text": [
      "Confusion Matrix (Accuracy 0.9067)\n",
      "\n",
      "       Prediction\n",
      "Actual  0  1\n",
      "     0 58  2\n",
      "     1  5 10\n"
     ]
    }
   ],
   "source": [
    "# Confusion matrix\n",
    "# (19) ??\n",
    "classificationSummary(y, ??, class_names=classes)"
   ]
  },
  {
   "cell_type": "markdown",
   "metadata": {},
   "source": [
    "# (20)&(21)&(22)&(23)??\n",
    "Among those who completed the task (??), ?? are misclassified as failing to complete the tast. So the percentage of programmers incorrectly classified as failing to complete task is ??/?? = 33.33%."
   ]
  },
  {
   "cell_type": "markdown",
   "metadata": {},
   "source": [
    "__10.2.c.__ To decrease the percentage in part (b), should the cutoff probability be increased or decreased?"
   ]
  },
  {
   "cell_type": "markdown",
   "metadata": {},
   "source": [
    "__Answer:__"
   ]
  },
  {
   "cell_type": "markdown",
   "metadata": {},
   "source": [
    "# (24)??\n",
    "?? the cutoff will lead to a reduced (or equal) classification error rate for truly completed records."
   ]
  },
  {
   "cell_type": "markdown",
   "metadata": {},
   "source": [
    "__10.2.d.__ How much experience must be accumulated by a programmer with 4 years of training before his or her estimated probability of completing the task exceeds 0.5?"
   ]
  },
  {
   "cell_type": "markdown",
   "metadata": {},
   "source": [
    "__Answer:__ "
   ]
  },
  {
   "cell_type": "markdown",
   "metadata": {},
   "source": [
    "The cutoff of 0.5 on the probability of task completion is equivalent to a threshold of 0 on the logit. We therefore write the estimated logit equation, equate it to 0 and set Training=4.\n",
    "\n",
    "let's say p = 0.6\n",
    "\n",
    "Logit = ln [(p) / (1-p)] = 0.4055 = -10.9794 + 1.1267*Experience + 0.1805*Training.\n",
    "\n",
    "We plug Training = 4 and solve for Experience.\n",
    "\n",
    "# (25)??\n",
    "?? months experience must be accumulated by a programmer with 4 years of education before his/her estimated probability of completing the task exceeds 50%.\n"
   ]
  },
  {
   "cell_type": "markdown",
   "metadata": {},
   "source": [
    "# Problem 10.3 Sales of Riding Mowers.\n",
    "\n",
    "A company that manufactures riding mowers wants to identify the best sales prospects for an intensive sales campaign. In particular, the manufacturer is interested in classifying households as prospective owners or nonowners on the basis of Income (in $1000s) and Lot Size (in 1000 ft<sup>2</sup>). The marketing expert looked at a random sample of 24 households, given in the file _RidingMowers.csv_. Use all the data to fit a logistic regression of ownership on the two predictors."
   ]
  },
  {
   "cell_type": "code",
   "execution_count": 16,
   "metadata": {},
   "outputs": [
    {
     "data": {
      "text/html": [
       "<div>\n",
       "<style scoped>\n",
       "    .dataframe tbody tr th:only-of-type {\n",
       "        vertical-align: middle;\n",
       "    }\n",
       "\n",
       "    .dataframe tbody tr th {\n",
       "        vertical-align: top;\n",
       "    }\n",
       "\n",
       "    .dataframe thead th {\n",
       "        text-align: right;\n",
       "    }\n",
       "</style>\n",
       "<table border=\"1\" class=\"dataframe\">\n",
       "  <thead>\n",
       "    <tr style=\"text-align: right;\">\n",
       "      <th></th>\n",
       "      <th>Income</th>\n",
       "      <th>Lot_Size</th>\n",
       "      <th>Ownership</th>\n",
       "    </tr>\n",
       "  </thead>\n",
       "  <tbody>\n",
       "    <tr>\n",
       "      <th>0</th>\n",
       "      <td>60.0</td>\n",
       "      <td>18.4</td>\n",
       "      <td>Owner</td>\n",
       "    </tr>\n",
       "    <tr>\n",
       "      <th>1</th>\n",
       "      <td>85.5</td>\n",
       "      <td>16.8</td>\n",
       "      <td>Owner</td>\n",
       "    </tr>\n",
       "    <tr>\n",
       "      <th>2</th>\n",
       "      <td>64.8</td>\n",
       "      <td>21.6</td>\n",
       "      <td>Owner</td>\n",
       "    </tr>\n",
       "    <tr>\n",
       "      <th>3</th>\n",
       "      <td>61.5</td>\n",
       "      <td>20.8</td>\n",
       "      <td>Owner</td>\n",
       "    </tr>\n",
       "    <tr>\n",
       "      <th>4</th>\n",
       "      <td>87.0</td>\n",
       "      <td>23.6</td>\n",
       "      <td>Owner</td>\n",
       "    </tr>\n",
       "  </tbody>\n",
       "</table>\n",
       "</div>"
      ],
      "text/plain": [
       "   Income  Lot_Size Ownership\n",
       "0    60.0      18.4     Owner\n",
       "1    85.5      16.8     Owner\n",
       "2    64.8      21.6     Owner\n",
       "3    61.5      20.8     Owner\n",
       "4    87.0      23.6     Owner"
      ]
     },
     "execution_count": 16,
     "metadata": {},
     "output_type": "execute_result"
    }
   ],
   "source": [
    "# load the data and review few records\n",
    "mower_df = pd.read_csv(DATA/'RidingMowers.csv')\n",
    "mower_df.head()"
   ]
  },
  {
   "cell_type": "markdown",
   "metadata": {},
   "source": [
    "__10.3.a.__ What percentage of households in the study were owners of a riding mower?"
   ]
  },
  {
   "cell_type": "code",
   "execution_count": 17,
   "metadata": {},
   "outputs": [
    {
     "name": "stdout",
     "output_type": "stream",
     "text": [
      "Owner       0.5\n",
      "Nonowner    0.5\n",
      "Name: Ownership, dtype: float64\n"
     ]
    }
   ],
   "source": [
    "# count of owners in the data\n",
    "print(mower_df['Ownership'].value_counts() / len(mower_df))"
   ]
  },
  {
   "cell_type": "markdown",
   "metadata": {},
   "source": [
    "50% of households were owners of riding mowers."
   ]
  },
  {
   "cell_type": "markdown",
   "metadata": {},
   "source": [
    "__10.3.b.__ Create a scatter plot of Income vs. Lot Size using color or symbol to distinguish owners from nonowners. From the scatter plot, which class seems to have a higher average income, owners or nonowners?"
   ]
  },
  {
   "cell_type": "markdown",
   "metadata": {},
   "source": [
    "__Answer:__"
   ]
  },
  {
   "cell_type": "code",
   "execution_count": 18,
   "metadata": {
    "scrolled": true
   },
   "outputs": [
    {
     "data": {
      "text/plain": [
       "<matplotlib.legend.Legend at 0x119a14760>"
      ]
     },
     "execution_count": 18,
     "metadata": {},
     "output_type": "execute_result"
    },
    {
     "data": {
      "image/png": "[encoded data removed]",
      "text/plain": [
       "<Figure size 432x288 with 1 Axes>"
      ]
     },
     "metadata": {
      "needs_background": "light"
     },
     "output_type": "display_data"
    }
   ],
   "source": [
    "# scater plot of Income vs. Lot Size \n",
    "fig, ax = plt.subplots()\n",
    "\n",
    "subset = mower_df.loc[mower_df['Ownership']== 'Owner']\n",
    "ax.scatter(subset.Lot_Size, subset.Income, marker='o', label='Owner')\n",
    "\n",
    "subset1 = mower_df.loc[mower_df['Ownership']== 'Nonowner']\n",
    "ax.scatter(subset1.Lot_Size, subset1.Income, marker='D', label='Nonowner')\n",
    "\n",
    "plt.xlabel('Lot_Size')  # set x-axis label\n",
    "plt.ylabel('Income')  # set y-axis label\n",
    "    \n",
    "handles, labels = ax.get_legend_handles_labels()\n",
    "ax.legend(handles, labels)"
   ]
  },
  {
   "cell_type": "markdown",
   "metadata": {},
   "source": [
    "# (26)??\n",
    "From the scatterplot it appears that \"??\" tend to have a higher average income."
   ]
  },
  {
   "cell_type": "markdown",
   "metadata": {},
   "source": [
    "__10.3.c.__ Among nonowners, what is the percentage of households classified correctly?"
   ]
  },
  {
   "cell_type": "code",
   "execution_count": 19,
   "metadata": {},
   "outputs": [
    {
     "data": {
      "text/plain": [
       "LogisticRegression(C=1e+42, class_weight=None, dual=False, fit_intercept=True,\n",
       "                   intercept_scaling=1, l1_ratio=None, max_iter=100,\n",
       "                   multi_class='auto', n_jobs=None, penalty='l2',\n",
       "                   random_state=None, solver='liblinear', tol=0.0001, verbose=0,\n",
       "                   warm_start=False)"
      ]
     },
     "execution_count": 19,
     "metadata": {},
     "output_type": "execute_result"
    }
   ],
   "source": [
    "# fit a logistic regression (set penalty=l2 and C=1e42 to avoid regularization)\n",
    "# change values of response variable from Owner/Nonowner to 1/0\n",
    "mower_df['Ownership'] = [1 if v == 'Owner' else 0 for v in mower_df['Ownership']]\n",
    "# convert response variable to type categorical\n",
    "mower_df.Ownership = mower_df.Ownership.astype('category')\n",
    "\n",
    "logit_reg = LogisticRegression(penalty=\"l2\", C=1e42, solver='liblinear')\n",
    "y = mower_df['Ownership']\n",
    "X = mower_df.drop(columns=['Ownership'])\n",
    "classes = list(y.cat.categories)\n",
    "logit_reg.fit(X, y)"
   ]
  },
  {
   "cell_type": "code",
   "execution_count": 20,
   "metadata": {},
   "outputs": [
    {
     "name": "stdout",
     "output_type": "stream",
     "text": [
      "intercept  -25.870471875170026\n",
      "         Income  Lot_Size\n",
      "coeff  0.110611  0.961144\n"
     ]
    }
   ],
   "source": [
    "# print coefficients\n",
    "print('intercept ', logit_reg.intercept_[0])\n",
    "print(pd.DataFrame({'coeff': logit_reg.coef_[0]}, index=X.columns).transpose())"
   ]
  },
  {
   "cell_type": "code",
   "execution_count": 21,
   "metadata": {},
   "outputs": [],
   "source": [
    "# predicted y\n",
    "y_pred = logit_reg.predict(X)"
   ]
  },
  {
   "cell_type": "code",
   "execution_count": 22,
   "metadata": {},
   "outputs": [
    {
     "name": "stdout",
     "output_type": "stream",
     "text": [
      "Confusion Matrix (Accuracy 0.8333)\n",
      "\n",
      "       Prediction\n",
      "Actual  0  1\n",
      "     0 10  2\n",
      "     1  2 10\n"
     ]
    }
   ],
   "source": [
    "# Confusion matrix\n",
    "classificationSummary(y, y_pred, class_names=classes)"
   ]
  },
  {
   "cell_type": "markdown",
   "metadata": {},
   "source": [
    "# (27)&(28)??\n",
    "??% (?? out of 12) nononwers are classified correctly."
   ]
  },
  {
   "cell_type": "markdown",
   "metadata": {},
   "source": [
    "__10.3.d.__ To increase the percentage of correctly classified nonowners, should the cutoff probability be increased or decreased?"
   ]
  },
  {
   "cell_type": "markdown",
   "metadata": {},
   "source": [
    "__Answer:__"
   ]
  },
  {
   "cell_type": "markdown",
   "metadata": {},
   "source": [
    "# (29)??\n",
    "From the classification confusion matrix shown in (c) we can see that 10 of the 12 non-owners are correctly classified. If we ?? the cutoff (i.e. make it harder to be classified as an owner), we can reduce the number of non-owners misclassified as owners, and improve the classification performance with non-owners. (Of course, this will be at the cost of misclassifying more of the owners as non-owners.)"
   ]
  },
  {
   "cell_type": "markdown",
   "metadata": {},
   "source": [
    "__10.3.e.__ What are the odds that a household with a $60K income and a lot size of 20,000 ft<sup>2</sup> is an owner?"
   ]
  },
  {
   "cell_type": "markdown",
   "metadata": {},
   "source": [
    "__Answer:__"
   ]
  },
  {
   "cell_type": "code",
   "execution_count": 23,
   "metadata": {},
   "outputs": [
    {
     "data": {
      "text/plain": [
       "0.9891276606350936"
      ]
     },
     "execution_count": 23,
     "metadata": {},
     "output_type": "execute_result"
    }
   ],
   "source": [
    "# new household\n",
    "# (30)&(31)??\n",
    "Income = ??\n",
    "# remember for Lot size you do not need to include all the zeroes\n",
    "Lot_Size = ??\n",
    "odds = math.exp(-25.870471875168775 + 0.110611 * Income + 0.961144 * Lot_Size)\n",
    "odds"
   ]
  },
  {
   "cell_type": "markdown",
   "metadata": {},
   "source": [
    "__10.3.f.__ What is the classification of a household with a $60K income and a lot size of 20,000 ft<sup>2</sup>? Use cutoff = 0.5."
   ]
  },
  {
   "cell_type": "code",
   "execution_count": 24,
   "metadata": {},
   "outputs": [
    {
     "data": {
      "text/plain": [
       "0.5027329415753625"
      ]
     },
     "execution_count": 24,
     "metadata": {},
     "output_type": "execute_result"
    }
   ],
   "source": [
    "# logit for new household\n",
    "logit = -25.870471875168775 + 0.110611 * Income + 0.961144 * Lot_Size\n",
    "odds = math.exp(logit)\n",
    "prob = 1/(1+odds)\n",
    "prob"
   ]
  },
  {
   "cell_type": "markdown",
   "metadata": {},
   "source": [
    "Probability that the new household is 0.50 and thus the predicted class for this new household is 0, or \"non-owner\"."
   ]
  },
  {
   "cell_type": "markdown",
   "metadata": {},
   "source": [
    "__10.3.g.__ What is the minimum income that a household with 16,000 ft2 lot size should have before it is classified as an owner?"
   ]
  },
  {
   "cell_type": "markdown",
   "metadata": {},
   "source": [
    "The cutoff of 0.5 on the probability of owner is equivalent to a threshold of 0 on the logit. We therefore write the estimated logit equation, equate it to 0 and set Lot_Size=16.\n",
    "\n",
    "0 = -25.870471875168775 + 0.110611*Income + 0.961144*Lot_Size.\n",
    "\n",
    "We plug Lot_Size = 16 and solve for Income."
   ]
  },
  {
   "cell_type": "code",
   "execution_count": 25,
   "metadata": {},
   "outputs": [
    {
     "data": {
      "text/plain": [
       "94.85645980208817"
      ]
     },
     "execution_count": 25,
     "metadata": {},
     "output_type": "execute_result"
    }
   ],
   "source": [
    "Income = (25.870471875168775 - (0.961144*16)) / 0.110611\n",
    "Income"
   ]
  },
  {
   "cell_type": "markdown",
   "metadata": {},
   "source": [
    "The minimum income needed for this household to be classified as \"owner\" is $94.8368K."
   ]
  },
  {
   "cell_type": "markdown",
   "metadata": {},
   "source": [
    "# Problem 10.4 Competitive Auctions on eBay.com. \n",
    "\n",
    "The file _eBayAuctions.csv_ contains information on 1972 auctions transacted on eBay.com during May–June 2004. The goal is to\n",
    "use these data to build a model that will distinguish competitive auctions from noncompetitive ones. A competitive auction is defined as an auction with at least two bids placed on the item being auctioned. The data include variables that describe the\n",
    "item (auction category), the seller (his or her eBay rating), and the auction terms that the seller selected (auction duration, opening price, currency, day of week of auction close). In addition, we have the price at which the auction closed. The goal is to predict whether or not an auction of interest will be competitive.\n",
    "\n",
    "__Data preprocessing.__ Create dummy variables for the categorical predictors. These include Category (18 categories), Currency (USD, GBP, Euro), EndDay (Monday–Sunday), and Duration (1, 3, 5, 7, or 10 days)."
   ]
  },
  {
   "cell_type": "markdown",
   "metadata": {},
   "source": [
    "__10.4.a.__ Create pivot tables for the mean of the binary outcome (Competitive?) as a function of the various categorical variables (use the original variables, not the dummies). Use the information in the tables to reduce the number of dummies that will be used in the model. For example, categories that appear most similar with respect to the distribution of competitive auctions could be combined."
   ]
  },
  {
   "cell_type": "markdown",
   "metadata": {},
   "source": [
    "__Answer:__"
   ]
  },
  {
   "cell_type": "code",
   "execution_count": 26,
   "metadata": {},
   "outputs": [
    {
     "data": {
      "text/plain": [
       "Index(['Category', 'currency', 'sellerRating', 'Duration', 'endDay',\n",
       "       'ClosePrice', 'OpenPrice', 'Competitive?'],\n",
       "      dtype='object')"
      ]
     },
     "execution_count": 26,
     "metadata": {},
     "output_type": "execute_result"
    }
   ],
   "source": [
    "# load the data\n",
    "ebay_df = pd.read_csv(DATA / 'eBayAuctions.csv')\n",
    "ebay_df.columns"
   ]
  },
  {
   "cell_type": "code",
   "execution_count": 27,
   "metadata": {},
   "outputs": [
    {
     "data": {
      "text/plain": [
       "Index(['Category', 'currency', 'sellerRating', 'Duration', 'endDay',\n",
       "       'ClosePrice', 'OpenPrice', 'Competitive'],\n",
       "      dtype='object')"
      ]
     },
     "execution_count": 27,
     "metadata": {},
     "output_type": "execute_result"
    }
   ],
   "source": [
    "# prettify variable names\n",
    "ebay_df.columns = [c.replace('?', '') for c in ebay_df.columns]\n",
    "ebay_df.columns"
   ]
  },
  {
   "cell_type": "code",
   "execution_count": 28,
   "metadata": {},
   "outputs": [
    {
     "data": {
      "text/plain": [
       "Category         object\n",
       "currency         object\n",
       "sellerRating      int64\n",
       "Duration          int64\n",
       "endDay           object\n",
       "ClosePrice      float64\n",
       "OpenPrice       float64\n",
       "Competitive       int64\n",
       "dtype: object"
      ]
     },
     "execution_count": 28,
     "metadata": {},
     "output_type": "execute_result"
    }
   ],
   "source": [
    "# check the variable types\n",
    "ebay_df.dtypes"
   ]
  },
  {
   "cell_type": "code",
   "execution_count": 29,
   "metadata": {},
   "outputs": [
    {
     "data": {
      "text/html": [
       "<div>\n",
       "<style scoped>\n",
       "    .dataframe tbody tr th:only-of-type {\n",
       "        vertical-align: middle;\n",
       "    }\n",
       "\n",
       "    .dataframe tbody tr th {\n",
       "        vertical-align: top;\n",
       "    }\n",
       "\n",
       "    .dataframe thead tr th {\n",
       "        text-align: left;\n",
       "    }\n",
       "\n",
       "    .dataframe thead tr:last-of-type th {\n",
       "        text-align: right;\n",
       "    }\n",
       "</style>\n",
       "<table border=\"1\" class=\"dataframe\">\n",
       "  <thead>\n",
       "    <tr>\n",
       "      <th></th>\n",
       "      <th>mean</th>\n",
       "    </tr>\n",
       "    <tr>\n",
       "      <th></th>\n",
       "      <th>Competitive</th>\n",
       "    </tr>\n",
       "    <tr>\n",
       "      <th>Category</th>\n",
       "      <th></th>\n",
       "    </tr>\n",
       "  </thead>\n",
       "  <tbody>\n",
       "    <tr>\n",
       "      <th>Antique/Art/Craft</th>\n",
       "      <td>0.564972</td>\n",
       "    </tr>\n",
       "    <tr>\n",
       "      <th>Automotive</th>\n",
       "      <td>0.353933</td>\n",
       "    </tr>\n",
       "    <tr>\n",
       "      <th>Books</th>\n",
       "      <td>0.500000</td>\n",
       "    </tr>\n",
       "    <tr>\n",
       "      <th>Business/Industrial</th>\n",
       "      <td>0.666667</td>\n",
       "    </tr>\n",
       "    <tr>\n",
       "      <th>Clothing/Accessories</th>\n",
       "      <td>0.504202</td>\n",
       "    </tr>\n",
       "    <tr>\n",
       "      <th>Coins/Stamps</th>\n",
       "      <td>0.297297</td>\n",
       "    </tr>\n",
       "    <tr>\n",
       "      <th>Collectibles</th>\n",
       "      <td>0.577406</td>\n",
       "    </tr>\n",
       "    <tr>\n",
       "      <th>Computer</th>\n",
       "      <td>0.666667</td>\n",
       "    </tr>\n",
       "    <tr>\n",
       "      <th>Electronics</th>\n",
       "      <td>0.800000</td>\n",
       "    </tr>\n",
       "    <tr>\n",
       "      <th>EverythingElse</th>\n",
       "      <td>0.235294</td>\n",
       "    </tr>\n",
       "    <tr>\n",
       "      <th>Health/Beauty</th>\n",
       "      <td>0.171875</td>\n",
       "    </tr>\n",
       "    <tr>\n",
       "      <th>Home/Garden</th>\n",
       "      <td>0.656863</td>\n",
       "    </tr>\n",
       "    <tr>\n",
       "      <th>Jewelry</th>\n",
       "      <td>0.365854</td>\n",
       "    </tr>\n",
       "    <tr>\n",
       "      <th>Music/Movie/Game</th>\n",
       "      <td>0.602978</td>\n",
       "    </tr>\n",
       "    <tr>\n",
       "      <th>Photography</th>\n",
       "      <td>0.846154</td>\n",
       "    </tr>\n",
       "    <tr>\n",
       "      <th>Pottery/Glass</th>\n",
       "      <td>0.350000</td>\n",
       "    </tr>\n",
       "    <tr>\n",
       "      <th>SportingGoods</th>\n",
       "      <td>0.725806</td>\n",
       "    </tr>\n",
       "    <tr>\n",
       "      <th>Toys/Hobbies</th>\n",
       "      <td>0.529915</td>\n",
       "    </tr>\n",
       "  </tbody>\n",
       "</table>\n",
       "</div>"
      ],
      "text/plain": [
       "                            mean\n",
       "                     Competitive\n",
       "Category                        \n",
       "Antique/Art/Craft       0.564972\n",
       "Automotive              0.353933\n",
       "Books                   0.500000\n",
       "Business/Industrial     0.666667\n",
       "Clothing/Accessories    0.504202\n",
       "Coins/Stamps            0.297297\n",
       "Collectibles            0.577406\n",
       "Computer                0.666667\n",
       "Electronics             0.800000\n",
       "EverythingElse          0.235294\n",
       "Health/Beauty           0.171875\n",
       "Home/Garden             0.656863\n",
       "Jewelry                 0.365854\n",
       "Music/Movie/Game        0.602978\n",
       "Photography             0.846154\n",
       "Pottery/Glass           0.350000\n",
       "SportingGoods           0.725806\n",
       "Toys/Hobbies            0.529915"
      ]
     },
     "execution_count": 29,
     "metadata": {},
     "output_type": "execute_result"
    }
   ],
   "source": [
    "# pivot table of Competitive and Category\n",
    "pivot1 = pd.pivot_table(ebay_df, index= 'Category', values= \"Competitive\",\n",
    "               aggfunc= [np.mean])\n",
    "pivot1"
   ]
  },
  {
   "cell_type": "code",
   "execution_count": 30,
   "metadata": {},
   "outputs": [
    {
     "data": {
      "text/html": [
       "<div>\n",
       "<style scoped>\n",
       "    .dataframe tbody tr th:only-of-type {\n",
       "        vertical-align: middle;\n",
       "    }\n",
       "\n",
       "    .dataframe tbody tr th {\n",
       "        vertical-align: top;\n",
       "    }\n",
       "\n",
       "    .dataframe thead tr th {\n",
       "        text-align: left;\n",
       "    }\n",
       "\n",
       "    .dataframe thead tr:last-of-type th {\n",
       "        text-align: right;\n",
       "    }\n",
       "</style>\n",
       "<table border=\"1\" class=\"dataframe\">\n",
       "  <thead>\n",
       "    <tr>\n",
       "      <th></th>\n",
       "      <th>mean</th>\n",
       "    </tr>\n",
       "    <tr>\n",
       "      <th></th>\n",
       "      <th>Competitive</th>\n",
       "    </tr>\n",
       "    <tr>\n",
       "      <th>currency</th>\n",
       "      <th></th>\n",
       "    </tr>\n",
       "  </thead>\n",
       "  <tbody>\n",
       "    <tr>\n",
       "      <th>EUR</th>\n",
       "      <td>0.551595</td>\n",
       "    </tr>\n",
       "    <tr>\n",
       "      <th>GBP</th>\n",
       "      <td>0.687075</td>\n",
       "    </tr>\n",
       "    <tr>\n",
       "      <th>US</th>\n",
       "      <td>0.519350</td>\n",
       "    </tr>\n",
       "  </tbody>\n",
       "</table>\n",
       "</div>"
      ],
      "text/plain": [
       "                mean\n",
       "         Competitive\n",
       "currency            \n",
       "EUR         0.551595\n",
       "GBP         0.687075\n",
       "US          0.519350"
      ]
     },
     "execution_count": 30,
     "metadata": {},
     "output_type": "execute_result"
    }
   ],
   "source": [
    "# pivot table of Competitive and \n",
    "pivot2 = pd.pivot_table(ebay_df, index= 'currency', values= \"Competitive\",\n",
    "               aggfunc= [np.mean])\n",
    "pivot2"
   ]
  },
  {
   "cell_type": "code",
   "execution_count": 31,
   "metadata": {},
   "outputs": [
    {
     "data": {
      "text/html": [
       "<div>\n",
       "<style scoped>\n",
       "    .dataframe tbody tr th:only-of-type {\n",
       "        vertical-align: middle;\n",
       "    }\n",
       "\n",
       "    .dataframe tbody tr th {\n",
       "        vertical-align: top;\n",
       "    }\n",
       "\n",
       "    .dataframe thead tr th {\n",
       "        text-align: left;\n",
       "    }\n",
       "\n",
       "    .dataframe thead tr:last-of-type th {\n",
       "        text-align: right;\n",
       "    }\n",
       "</style>\n",
       "<table border=\"1\" class=\"dataframe\">\n",
       "  <thead>\n",
       "    <tr>\n",
       "      <th></th>\n",
       "      <th>mean</th>\n",
       "    </tr>\n",
       "    <tr>\n",
       "      <th></th>\n",
       "      <th>Competitive</th>\n",
       "    </tr>\n",
       "    <tr>\n",
       "      <th>endDay</th>\n",
       "      <th></th>\n",
       "    </tr>\n",
       "  </thead>\n",
       "  <tbody>\n",
       "    <tr>\n",
       "      <th>Fri</th>\n",
       "      <td>0.466899</td>\n",
       "    </tr>\n",
       "    <tr>\n",
       "      <th>Mon</th>\n",
       "      <td>0.673358</td>\n",
       "    </tr>\n",
       "    <tr>\n",
       "      <th>Sat</th>\n",
       "      <td>0.427350</td>\n",
       "    </tr>\n",
       "    <tr>\n",
       "      <th>Sun</th>\n",
       "      <td>0.485207</td>\n",
       "    </tr>\n",
       "    <tr>\n",
       "      <th>Thu</th>\n",
       "      <td>0.603960</td>\n",
       "    </tr>\n",
       "    <tr>\n",
       "      <th>Tue</th>\n",
       "      <td>0.532164</td>\n",
       "    </tr>\n",
       "    <tr>\n",
       "      <th>Wed</th>\n",
       "      <td>0.480000</td>\n",
       "    </tr>\n",
       "  </tbody>\n",
       "</table>\n",
       "</div>"
      ],
      "text/plain": [
       "              mean\n",
       "       Competitive\n",
       "endDay            \n",
       "Fri       0.466899\n",
       "Mon       0.673358\n",
       "Sat       0.427350\n",
       "Sun       0.485207\n",
       "Thu       0.603960\n",
       "Tue       0.532164\n",
       "Wed       0.480000"
      ]
     },
     "execution_count": 31,
     "metadata": {},
     "output_type": "execute_result"
    }
   ],
   "source": [
    "# pivot table of Competitive and Category\n",
    "pivot3 = pd.pivot_table(ebay_df, index= 'endDay', values= \"Competitive\",\n",
    "               aggfunc= [np.mean])\n",
    "pivot3"
   ]
  },
  {
   "cell_type": "markdown",
   "metadata": {},
   "source": [
    "The categories \"Business/Industrials\" and \"Computers\" have same average of the binary variable \"Competitive.\" This means that the percentage of competitive auctions in each of these two categories is equal. Hence we can combine the two categories into a single category called \"Computers.\" Similarly, the average of \"competitive\" for the categories \"Antique/Art/Craft\" and \"Collectibles\" are almost same. Therefore, we can combine them into a single category called \"collectibles\". The auction ending days \"Sunday\" and \"Friday\" have approximately equal averages for \"competitive\". So we can combine them into a single category called \"Sun_Fri\"."
   ]
  },
  {
   "cell_type": "code",
   "execution_count": 32,
   "metadata": {
    "scrolled": true
   },
   "outputs": [],
   "source": [
    "ebay_df.loc[ebay_df.endDay == 'Sun', 'endDay'] = 'Sun_Fri'\n",
    "ebay_df.loc[ebay_df.endDay == 'Fri', 'endDay'] = 'Sun_Fri'\n",
    "\n",
    "ebay_df.loc[ebay_df.Category == \"Business/Industrial\", 'Category'] = 'Computer'\n",
    "ebay_df.loc[ebay_df.Category == \"Antique/Art/Craft\", 'Category'] = 'Collectibles'"
   ]
  },
  {
   "cell_type": "code",
   "execution_count": 33,
   "metadata": {
    "scrolled": false
   },
   "outputs": [
    {
     "data": {
      "text/html": [
       "<div>\n",
       "<style scoped>\n",
       "    .dataframe tbody tr th:only-of-type {\n",
       "        vertical-align: middle;\n",
       "    }\n",
       "\n",
       "    .dataframe tbody tr th {\n",
       "        vertical-align: top;\n",
       "    }\n",
       "\n",
       "    .dataframe thead tr th {\n",
       "        text-align: left;\n",
       "    }\n",
       "\n",
       "    .dataframe thead tr:last-of-type th {\n",
       "        text-align: right;\n",
       "    }\n",
       "</style>\n",
       "<table border=\"1\" class=\"dataframe\">\n",
       "  <thead>\n",
       "    <tr>\n",
       "      <th></th>\n",
       "      <th>mean</th>\n",
       "    </tr>\n",
       "    <tr>\n",
       "      <th></th>\n",
       "      <th>Competitive</th>\n",
       "    </tr>\n",
       "    <tr>\n",
       "      <th>Category</th>\n",
       "      <th></th>\n",
       "    </tr>\n",
       "  </thead>\n",
       "  <tbody>\n",
       "    <tr>\n",
       "      <th>Automotive</th>\n",
       "      <td>0.353933</td>\n",
       "    </tr>\n",
       "    <tr>\n",
       "      <th>Books</th>\n",
       "      <td>0.500000</td>\n",
       "    </tr>\n",
       "    <tr>\n",
       "      <th>Clothing/Accessories</th>\n",
       "      <td>0.504202</td>\n",
       "    </tr>\n",
       "    <tr>\n",
       "      <th>Coins/Stamps</th>\n",
       "      <td>0.297297</td>\n",
       "    </tr>\n",
       "    <tr>\n",
       "      <th>Collectibles</th>\n",
       "      <td>0.572115</td>\n",
       "    </tr>\n",
       "    <tr>\n",
       "      <th>Computer</th>\n",
       "      <td>0.666667</td>\n",
       "    </tr>\n",
       "    <tr>\n",
       "      <th>Electronics</th>\n",
       "      <td>0.800000</td>\n",
       "    </tr>\n",
       "    <tr>\n",
       "      <th>EverythingElse</th>\n",
       "      <td>0.235294</td>\n",
       "    </tr>\n",
       "    <tr>\n",
       "      <th>Health/Beauty</th>\n",
       "      <td>0.171875</td>\n",
       "    </tr>\n",
       "    <tr>\n",
       "      <th>Home/Garden</th>\n",
       "      <td>0.656863</td>\n",
       "    </tr>\n",
       "    <tr>\n",
       "      <th>Jewelry</th>\n",
       "      <td>0.365854</td>\n",
       "    </tr>\n",
       "    <tr>\n",
       "      <th>Music/Movie/Game</th>\n",
       "      <td>0.602978</td>\n",
       "    </tr>\n",
       "    <tr>\n",
       "      <th>Photography</th>\n",
       "      <td>0.846154</td>\n",
       "    </tr>\n",
       "    <tr>\n",
       "      <th>Pottery/Glass</th>\n",
       "      <td>0.350000</td>\n",
       "    </tr>\n",
       "    <tr>\n",
       "      <th>SportingGoods</th>\n",
       "      <td>0.725806</td>\n",
       "    </tr>\n",
       "    <tr>\n",
       "      <th>Toys/Hobbies</th>\n",
       "      <td>0.529915</td>\n",
       "    </tr>\n",
       "  </tbody>\n",
       "</table>\n",
       "</div>"
      ],
      "text/plain": [
       "                            mean\n",
       "                     Competitive\n",
       "Category                        \n",
       "Automotive              0.353933\n",
       "Books                   0.500000\n",
       "Clothing/Accessories    0.504202\n",
       "Coins/Stamps            0.297297\n",
       "Collectibles            0.572115\n",
       "Computer                0.666667\n",
       "Electronics             0.800000\n",
       "EverythingElse          0.235294\n",
       "Health/Beauty           0.171875\n",
       "Home/Garden             0.656863\n",
       "Jewelry                 0.365854\n",
       "Music/Movie/Game        0.602978\n",
       "Photography             0.846154\n",
       "Pottery/Glass           0.350000\n",
       "SportingGoods           0.725806\n",
       "Toys/Hobbies            0.529915"
      ]
     },
     "execution_count": 33,
     "metadata": {},
     "output_type": "execute_result"
    }
   ],
   "source": [
    "# pivot table of Competitive and Category\n",
    "pivot1 = pd.pivot_table(ebay_df, index= 'Category', values= \"Competitive\",\n",
    "               aggfunc= [np.mean])\n",
    "pivot1"
   ]
  },
  {
   "cell_type": "code",
   "execution_count": 34,
   "metadata": {},
   "outputs": [
    {
     "data": {
      "text/html": [
       "<div>\n",
       "<style scoped>\n",
       "    .dataframe tbody tr th:only-of-type {\n",
       "        vertical-align: middle;\n",
       "    }\n",
       "\n",
       "    .dataframe tbody tr th {\n",
       "        vertical-align: top;\n",
       "    }\n",
       "\n",
       "    .dataframe thead tr th {\n",
       "        text-align: left;\n",
       "    }\n",
       "\n",
       "    .dataframe thead tr:last-of-type th {\n",
       "        text-align: right;\n",
       "    }\n",
       "</style>\n",
       "<table border=\"1\" class=\"dataframe\">\n",
       "  <thead>\n",
       "    <tr>\n",
       "      <th></th>\n",
       "      <th>mean</th>\n",
       "    </tr>\n",
       "    <tr>\n",
       "      <th></th>\n",
       "      <th>Competitive</th>\n",
       "    </tr>\n",
       "    <tr>\n",
       "      <th>endDay</th>\n",
       "      <th></th>\n",
       "    </tr>\n",
       "  </thead>\n",
       "  <tbody>\n",
       "    <tr>\n",
       "      <th>Mon</th>\n",
       "      <td>0.673358</td>\n",
       "    </tr>\n",
       "    <tr>\n",
       "      <th>Sat</th>\n",
       "      <td>0.427350</td>\n",
       "    </tr>\n",
       "    <tr>\n",
       "      <th>Sun_Fri</th>\n",
       "      <td>0.476800</td>\n",
       "    </tr>\n",
       "    <tr>\n",
       "      <th>Thu</th>\n",
       "      <td>0.603960</td>\n",
       "    </tr>\n",
       "    <tr>\n",
       "      <th>Tue</th>\n",
       "      <td>0.532164</td>\n",
       "    </tr>\n",
       "    <tr>\n",
       "      <th>Wed</th>\n",
       "      <td>0.480000</td>\n",
       "    </tr>\n",
       "  </tbody>\n",
       "</table>\n",
       "</div>"
      ],
      "text/plain": [
       "               mean\n",
       "        Competitive\n",
       "endDay             \n",
       "Mon        0.673358\n",
       "Sat        0.427350\n",
       "Sun_Fri    0.476800\n",
       "Thu        0.603960\n",
       "Tue        0.532164\n",
       "Wed        0.480000"
      ]
     },
     "execution_count": 34,
     "metadata": {},
     "output_type": "execute_result"
    }
   ],
   "source": [
    "# pivot table of Competitive and Category\n",
    "pivot3 = pd.pivot_table(ebay_df, index= 'endDay', values= \"Competitive\",\n",
    "               aggfunc= [np.mean])\n",
    "pivot3"
   ]
  },
  {
   "cell_type": "markdown",
   "metadata": {},
   "source": [
    "__10.4.b.__ Split the data into training (60%) and validation (40%) datasets. Run a logistic model with all predictors with a cutoff of 0.5."
   ]
  },
  {
   "cell_type": "markdown",
   "metadata": {},
   "source": [
    "__Answer:__"
   ]
  },
  {
   "cell_type": "markdown",
   "metadata": {},
   "source": [
    "Split the data into training (60%) and validation (40%) datasets. Use the random seed 202."
   ]
  },
  {
   "cell_type": "code",
   "execution_count": 35,
   "metadata": {},
   "outputs": [],
   "source": [
    "# change variable types to appropriate ones\n",
    "ebay_df['Category'] = ebay_df['Category'].astype('category')\n",
    "ebay_df['currency'] = ebay_df['currency'].astype('category')\n",
    "ebay_df['endDay'] = ebay_df['endDay'].astype('category')\n",
    "\n",
    "# convert categorical variables into indicator and drop the first column of each of them\n",
    "ebay_df = pd.get_dummies(ebay_df, prefix_sep='_')\n",
    "ebay_df.drop(columns=['Category_Automotive', 'currency_EUR', 'endDay_Mon'], inplace=True)\n"
   ]
  },
  {
   "cell_type": "code",
   "execution_count": 36,
   "metadata": {},
   "outputs": [],
   "source": [
    "# predictor and response variables\n",
    "ebay_df['Competitive'] = ebay_df['Competitive'].astype('category')\n",
    "outcome = 'Competitive'\n",
    "predictors = list(ebay_df.columns)\n",
    "predictors.remove(outcome)\n",
    "y = ebay_df[outcome]\n",
    "X = ebay_df[predictors]"
   ]
  },
  {
   "cell_type": "code",
   "execution_count": 37,
   "metadata": {},
   "outputs": [],
   "source": [
    "# split the data into training and validation sets\n",
    "X_train, X_valid, y_train, y_valid = train_test_split(X, y, test_size=0.40, random_state=202)"
   ]
  },
  {
   "cell_type": "code",
   "execution_count": 38,
   "metadata": {},
   "outputs": [
    {
     "data": {
      "text/plain": [
       "LogisticRegression(C=1e+42, class_weight=None, dual=False, fit_intercept=True,\n",
       "                   intercept_scaling=1, l1_ratio=None, max_iter=100,\n",
       "                   multi_class='auto', n_jobs=None, penalty='l2',\n",
       "                   random_state=None, solver='liblinear', tol=0.0001, verbose=0,\n",
       "                   warm_start=False)"
      ]
     },
     "execution_count": 38,
     "metadata": {},
     "output_type": "execute_result"
    }
   ],
   "source": [
    "# fit a logistic regression (set penalty=l2 and C=1e42 to avoid regularization)\n",
    "logit_reg = LogisticRegression(penalty=\"l2\", C=1e42, solver='liblinear')\n",
    "classes = list(y.cat.categories)\n",
    "logit_reg.fit(X_train, y_train)"
   ]
  },
  {
   "cell_type": "code",
   "execution_count": 39,
   "metadata": {},
   "outputs": [
    {
     "name": "stdout",
     "output_type": "stream",
     "text": [
      "intercept  -0.16233820301376703\n",
      "       sellerRating  Duration  ClosePrice  OpenPrice  Category_Books  \\\n",
      "coeff     -0.000037 -0.009712    0.084273  -0.098255       -0.030295   \n",
      "\n",
      "       Category_Clothing/Accessories  Category_Coins/Stamps  \\\n",
      "coeff                      -0.525984              -0.962637   \n",
      "\n",
      "       Category_Collectibles  Category_Computer  Category_Electronics  ...  \\\n",
      "coeff                0.43238           0.501414              1.162978  ...   \n",
      "\n",
      "       Category_Pottery/Glass  Category_SportingGoods  Category_Toys/Hobbies  \\\n",
      "coeff                -0.17042                0.485073               0.706662   \n",
      "\n",
      "       currency_GBP  currency_US  endDay_Sat  endDay_Sun_Fri  endDay_Thu  \\\n",
      "coeff      1.174816     0.305728    -1.05426       -0.711331   -0.724128   \n",
      "\n",
      "       endDay_Tue  endDay_Wed  \n",
      "coeff   -0.724097   -0.838984  \n",
      "\n",
      "[1 rows x 26 columns]\n"
     ]
    }
   ],
   "source": [
    "# print coefficients\n",
    "print('intercept ', logit_reg.intercept_[0])\n",
    "print(pd.DataFrame({'coeff': logit_reg.coef_[0]}, index=X.columns).transpose())"
   ]
  },
  {
   "cell_type": "code",
   "execution_count": 40,
   "metadata": {},
   "outputs": [
    {
     "name": "stdout",
     "output_type": "stream",
     "text": [
      "Confusion Matrix (Accuracy 0.7592)\n",
      "\n",
      "       Prediction\n",
      "Actual   0   1\n",
      "     0 289  74\n",
      "     1 116 310\n"
     ]
    }
   ],
   "source": [
    "# confusion matrix\n",
    "# predicted y for validation set\n",
    "val_pred = logit_reg.predict(X_valid)\n",
    "# Confusion matrix\n",
    "classificationSummary(y_valid, val_pred, class_names=classes)"
   ]
  },
  {
   "cell_type": "markdown",
   "metadata": {},
   "source": [
    "__10.4.c.__ If we want to predict at the start of an auction whether it will be competitive, we cannot use the information on the closing price. Run a logistic model with all predictors as above, excluding price. How does this model compare to the full\n",
    "model with respect to predictive accuracy?"
   ]
  },
  {
   "cell_type": "markdown",
   "metadata": {},
   "source": [
    "__Answer:__"
   ]
  },
  {
   "cell_type": "code",
   "execution_count": 41,
   "metadata": {},
   "outputs": [],
   "source": [
    "# drop the predictor 'ClosePrice'\n",
    "X_train = X_train.drop(columns=['ClosePrice'])\n",
    "X_valid = X_valid.drop(columns=['ClosePrice'])"
   ]
  },
  {
   "cell_type": "code",
   "execution_count": 42,
   "metadata": {},
   "outputs": [
    {
     "data": {
      "text/plain": [
       "LogisticRegression(C=1e+42, class_weight=None, dual=False, fit_intercept=True,\n",
       "                   intercept_scaling=1, l1_ratio=None, max_iter=100,\n",
       "                   multi_class='auto', n_jobs=None, penalty='l2',\n",
       "                   random_state=None, solver='liblinear', tol=0.0001, verbose=0,\n",
       "                   warm_start=False)"
      ]
     },
     "execution_count": 42,
     "metadata": {},
     "output_type": "execute_result"
    }
   ],
   "source": [
    "# fit a logistic regression (set penalty=l2 and C=1e42 to avoid regularization)\n",
    "logit_reg = LogisticRegression(penalty=\"l2\", C=1e42, solver='liblinear')\n",
    "logit_reg.fit(X_train, y_train)"
   ]
  },
  {
   "cell_type": "code",
   "execution_count": 43,
   "metadata": {},
   "outputs": [
    {
     "name": "stdout",
     "output_type": "stream",
     "text": [
      "intercept  1.239216727766818\n",
      "       sellerRating  Duration  OpenPrice  Category_Books  \\\n",
      "coeff      -0.00004 -0.080785  -0.007146       -0.220607   \n",
      "\n",
      "       Category_Clothing/Accessories  Category_Coins/Stamps  \\\n",
      "coeff                       0.285479              -0.815631   \n",
      "\n",
      "       Category_Collectibles  Category_Computer  Category_Electronics  \\\n",
      "coeff               0.442175            0.98236              1.540873   \n",
      "\n",
      "       Category_EverythingElse  ...  Category_Pottery/Glass  \\\n",
      "coeff                -1.887026  ...               -0.332043   \n",
      "\n",
      "       Category_SportingGoods  Category_Toys/Hobbies  currency_GBP  \\\n",
      "coeff                1.358508               0.648472      0.958213   \n",
      "\n",
      "       currency_US  endDay_Sat  endDay_Sun_Fri  endDay_Thu  endDay_Tue  \\\n",
      "coeff    -0.095301   -1.239433       -0.954428   -1.012888   -0.740699   \n",
      "\n",
      "       endDay_Wed  \n",
      "coeff    -0.91522  \n",
      "\n",
      "[1 rows x 25 columns]\n"
     ]
    }
   ],
   "source": [
    "# print coefficients\n",
    "print('intercept ', logit_reg.intercept_[0])\n",
    "print(pd.DataFrame({'coeff': logit_reg.coef_[0]}, index=X_train.columns).transpose())"
   ]
  },
  {
   "cell_type": "code",
   "execution_count": 44,
   "metadata": {},
   "outputs": [
    {
     "name": "stdout",
     "output_type": "stream",
     "text": [
      "Confusion Matrix (Accuracy 0.6312)\n",
      "\n",
      "       Prediction\n",
      "Actual   0   1\n",
      "     0 213 150\n",
      "     1 141 285\n"
     ]
    }
   ],
   "source": [
    "# confusion matrix\n",
    "# predicted y for validation set\n",
    "val_pred = logit_reg.predict(X_valid)\n",
    "# Confusion matrix\n",
    "classificationSummary(y_valid, val_pred, class_names=classes)\n",
    "\n",
    "# Keep track of results\n",
    "accuracies = {}\n",
    "accuracies['full model'] = [accuracy_score(y_train, logit_reg.predict(X_train)), accuracy_score(y_valid, val_pred)]"
   ]
  },
  {
   "cell_type": "markdown",
   "metadata": {},
   "source": [
    "# (32)??\n",
    "The overall error rate for the full model (1-0.7605 = 23.95%) is much lower than that for the model excluding \"close price\" (36.63%). Hence the model excluding \"close price\" has ?? predictive accuracy compared to the full model."
   ]
  },
  {
   "cell_type": "markdown",
   "metadata": {},
   "source": [
    "__10.4.d.__ Interpret the meaning of the coefficient for closing price. Does closing price have a practical significance? Is it statistically significant for predicting competitiveness of auctions? (Use a 10% significance level.)"
   ]
  },
  {
   "cell_type": "markdown",
   "metadata": {},
   "source": [
    "__Answer:__ "
   ]
  },
  {
   "cell_type": "markdown",
   "metadata": {},
   "source": [
    "The coefficient for \"close price\" is 0.084431. This positive coefficient means that higher closing prices are associated with a higher probability of the auction being competitive."
   ]
  },
  {
   "cell_type": "code",
   "execution_count": 45,
   "metadata": {},
   "outputs": [
    {
     "data": {
      "text/plain": [
       "1.088097762896088"
      ]
     },
     "execution_count": 45,
     "metadata": {},
     "output_type": "execute_result"
    }
   ],
   "source": [
    "# odds coefficient for close price\n",
    "math.exp(0.084431)"
   ]
  },
  {
   "cell_type": "markdown",
   "metadata": {},
   "source": [
    "Looking at the odds coefficient (1.1), we see that every $1 increase in the closing price increases the odds of the auction being competitive by a factor of 1.1. We will not use ClosePrice in the remaining questions since closing price won't be available at the time making predictions."
   ]
  },
  {
   "cell_type": "markdown",
   "metadata": {},
   "source": [
    "__10.4.e.__ Use stepwise regression as described in chapter 6.4 to find the model with the best fit to the training data (highest accuracy). Which predictors are used?"
   ]
  },
  {
   "cell_type": "code",
   "execution_count": 46,
   "metadata": {},
   "outputs": [
    {
     "name": "stdout",
     "output_type": "stream",
     "text": [
      "Variables: sellerRating, Duration, OpenPrice, Category_Books, Category_Clothing/Accessories, Category_Coins/Stamps, Category_Collectibles, Category_Computer, Category_Electronics, Category_EverythingElse, Category_Health/Beauty, Category_Home/Garden, Category_Jewelry, Category_Music/Movie/Game, Category_Photography, Category_Pottery/Glass, Category_SportingGoods, Category_Toys/Hobbies, currency_GBP, currency_US, endDay_Sat, endDay_Sun_Fri, endDay_Thu, endDay_Tue, endDay_Wed\n",
      "Start: score=0.00, constant\n",
      "Step: score=-0.57, add endDay_Sat\n",
      "Step: score=-0.60, add endDay_Sun_Fri\n",
      "Step: score=-0.61, add Category_Electronics\n",
      "Step: score=-0.62, add Category_Toys/Hobbies\n",
      "Step: score=-0.63, add Category_Jewelry\n",
      "Step: score=-0.63, add Category_Computer\n",
      "Step: score=-0.64, add Category_Health/Beauty\n",
      "Step: score=-0.67, add OpenPrice\n",
      "Step: score=-0.67, add endDay_Tue\n",
      "Step: score=-0.67, add sellerRating\n",
      "Step: score=-0.67, unchanged None\n",
      "['Category_Computer', 'Category_Electronics', 'Category_Health/Beauty', 'Category_Jewelry', 'Category_Toys/Hobbies', 'OpenPrice', 'endDay_Sat', 'endDay_Sun_Fri', 'endDay_Tue', 'sellerRating']\n",
      "Confusion Matrix (Accuracy 0.6274)\n",
      "\n",
      "       Prediction\n",
      "Actual   0   1\n",
      "     0 196 167\n",
      "     1 127 299\n"
     ]
    }
   ],
   "source": [
    "def train_model(variables):\n",
    "    if len(variables) == 0:\n",
    "        return None\n",
    "    model = LogisticRegression(penalty=\"l2\", C=1e42, solver='liblinear')\n",
    "    \n",
    "    model.fit(X_train[list(variables)], y_train)\n",
    "    return model\n",
    "\n",
    "def score_model(model, variables):\n",
    "    if len(variables) == 0:\n",
    "        return 0\n",
    "    y_pred = model.predict(X_train[list(variables)])\n",
    "    # we negate as score is optimized to be as low as possible\n",
    "    return -accuracy_score(y_train, y_pred)\n",
    "\n",
    "allVariables = X_train.columns\n",
    "best_fitting, var_fitting = stepwise_selection(allVariables, train_model, \n",
    "                                score_model, verbose=True)\n",
    "print(sorted(var_fitting))\n",
    "\n",
    "\n",
    "# Confusion matrix\n",
    "y_pred = best_fitting.predict(X_valid[list(var_fitting)])\n",
    "classificationSummary(y_valid, y_pred, class_names=classes)\n",
    "\n",
    "accuracies['best fitting'] = [accuracy_score(y_train, best_fitting.predict(X_train[list(var_fitting)])), \n",
    "                              accuracy_score(y_valid, y_pred)]"
   ]
  },
  {
   "cell_type": "markdown",
   "metadata": {},
   "source": [
    "__10.4.f.__ Use stepwise regression to find the model with the highest accuracy on the validation data. Which predictors are used?"
   ]
  },
  {
   "cell_type": "markdown",
   "metadata": {},
   "source": [
    "__Answer:__"
   ]
  },
  {
   "cell_type": "code",
   "execution_count": 47,
   "metadata": {},
   "outputs": [
    {
     "name": "stdout",
     "output_type": "stream",
     "text": [
      "Variables: sellerRating, Duration, OpenPrice, Category_Books, Category_Clothing/Accessories, Category_Coins/Stamps, Category_Collectibles, Category_Computer, Category_Electronics, Category_EverythingElse, Category_Health/Beauty, Category_Home/Garden, Category_Jewelry, Category_Music/Movie/Game, Category_Photography, Category_Pottery/Glass, Category_SportingGoods, Category_Toys/Hobbies, currency_GBP, currency_US, endDay_Sat, endDay_Sun_Fri, endDay_Thu, endDay_Tue, endDay_Wed\n",
      "Start: score=0.00, constant\n",
      "Step: score=-0.57, add OpenPrice\n",
      "Step: score=-0.58, add Category_Music/Movie/Game\n",
      "Step: score=-0.60, add Category_SportingGoods\n",
      "Step: score=-0.63, add Category_Electronics\n",
      "Step: score=-0.64, add sellerRating\n",
      "Step: score=-0.65, add Category_EverythingElse\n",
      "Step: score=-0.65, unchanged None\n",
      "['Category_Electronics', 'Category_EverythingElse', 'Category_Music/Movie/Game', 'Category_SportingGoods', 'OpenPrice', 'sellerRating']\n",
      "Confusion Matrix (Accuracy 0.6489)\n",
      "\n",
      "       Prediction\n",
      "Actual   0   1\n",
      "     0 163 200\n",
      "     1  77 349\n"
     ]
    }
   ],
   "source": [
    "def score_model(model, variables):\n",
    "    if len(variables) == 0:\n",
    "        return 0\n",
    "    y_pred = model.predict(X_valid[list(variables)])\n",
    "    # we negate as score is optimized to be as low as possible\n",
    "    return -accuracy_score(y_valid, y_pred)\n",
    "\n",
    "allVariables = X_train.columns\n",
    "best_predictive, var_predictive = stepwise_selection(allVariables, train_model, \n",
    "                                score_model, verbose=True)\n",
    "print(sorted(var_predictive))\n",
    "\n",
    "# Confusion matrix\n",
    "y_pred = best_predictive.predict(X_valid[list(var_predictive)])\n",
    "classificationSummary(y_valid, y_pred, class_names=classes)\n",
    "\n",
    "accuracies['best predictive'] = [accuracy_score(y_train, best_predictive.predict(X_train[list(var_predictive)])), \n",
    "                                 accuracy_score(y_valid, y_pred)]"
   ]
  },
  {
   "cell_type": "markdown",
   "metadata": {},
   "source": [
    "__10.4.g.__ What is the danger of using the best predictive model that you found?"
   ]
  },
  {
   "cell_type": "markdown",
   "metadata": {},
   "source": [
    "__Answer:__ "
   ]
  },
  {
   "cell_type": "code",
   "execution_count": 48,
   "metadata": {
    "scrolled": true
   },
   "outputs": [
    {
     "data": {
      "text/html": [
       "<div>\n",
       "<style scoped>\n",
       "    .dataframe tbody tr th:only-of-type {\n",
       "        vertical-align: middle;\n",
       "    }\n",
       "\n",
       "    .dataframe tbody tr th {\n",
       "        vertical-align: top;\n",
       "    }\n",
       "\n",
       "    .dataframe thead th {\n",
       "        text-align: right;\n",
       "    }\n",
       "</style>\n",
       "<table border=\"1\" class=\"dataframe\">\n",
       "  <thead>\n",
       "    <tr style=\"text-align: right;\">\n",
       "      <th></th>\n",
       "      <th>training</th>\n",
       "      <th>validation</th>\n",
       "    </tr>\n",
       "  </thead>\n",
       "  <tbody>\n",
       "    <tr>\n",
       "      <th>full model</th>\n",
       "      <td>0.655959</td>\n",
       "      <td>0.631179</td>\n",
       "    </tr>\n",
       "    <tr>\n",
       "      <th>best fitting</th>\n",
       "      <td>0.672866</td>\n",
       "      <td>0.627376</td>\n",
       "    </tr>\n",
       "    <tr>\n",
       "      <th>best predictive</th>\n",
       "      <td>0.641589</td>\n",
       "      <td>0.648923</td>\n",
       "    </tr>\n",
       "  </tbody>\n",
       "</table>\n",
       "</div>"
      ],
      "text/plain": [
       "                 training  validation\n",
       "full model       0.655959    0.631179\n",
       "best fitting     0.672866    0.627376\n",
       "best predictive  0.641589    0.648923"
      ]
     },
     "execution_count": 48,
     "metadata": {},
     "output_type": "execute_result"
    }
   ],
   "source": [
    "pd.DataFrame(accuracies, index=['training', 'validation']).transpose()"
   ]
  },
  {
   "cell_type": "markdown",
   "metadata": {},
   "source": [
    "# (33)&(34)??\n",
    "The model that was optimized for performance on the training set (best-fitting) has the ?? accuracy. However, it also has the ?? accuracy on the validation set. One way to evaluate the degree of overfitting is to compare the error rates of the training and validation sets. The large difference in training set error and validation error (where training set error is smaller than validation set) indicates that the best-fitting model may be overfit to the training data.\n",
    "\n",
    "The best-predictive model (optimized for accuracy on the validation set) on the other hand, has a small difference between training and validation accuracy. Here, the accuracy on the validation set is even higher than for the training set. This can be an indication that the model is biased towards the validation set.\n",
    "\n",
    "To avoid bias towards training or validation set, it is best to use cross validation. "
   ]
  },
  {
   "cell_type": "markdown",
   "metadata": {},
   "source": [
    "__10.4.h.__ Explain how and why the best-fitting model and the best predictive models are the same or different."
   ]
  },
  {
   "cell_type": "markdown",
   "metadata": {},
   "source": [
    "While finding the best-fitted model means fitting the training data set (using\n",
    "measures like accuracy), the best predictive model is one that has highest \n",
    "prediction accuracy with the validation data."
   ]
  },
  {
   "cell_type": "markdown",
   "metadata": {},
   "source": [
    "__10.4.i.__ Use regularized logistic regression with L1 penalty on the training data. Compare its selected predictors and classification performance to the best-fitting and best predictive models."
   ]
  },
  {
   "cell_type": "code",
   "execution_count": 49,
   "metadata": {
    "scrolled": true
   },
   "outputs": [
    {
     "name": "stdout",
     "output_type": "stream",
     "text": [
      "Confusion Matrix (Accuracy 0.8834)\n",
      "\n",
      "       Prediction\n",
      "Actual   0   1\n",
      "     0 289  27\n",
      "     1  65 408\n"
     ]
    }
   ],
   "source": [
    "logit_reg_L1 = LogisticRegressionCV(cv=5, random_state=0, Cs=20, max_iter=500)\n",
    "logit_reg_L1.fit(X_train, y_train)\n",
    "\n",
    "# Confusion matrix\n",
    "classificationSummary(logit_reg_L1.predict(X_valid), val_pred, class_names=classes)\n",
    "\n",
    "\n",
    "accuracies['regularized'] = [accuracy_score(y_train, logit_reg_L1.predict(X_train)), \n",
    "                             accuracy_score(y_valid, logit_reg_L1.predict(X_valid))]"
   ]
  },
  {
   "cell_type": "code",
   "execution_count": 50,
   "metadata": {
    "scrolled": true
   },
   "outputs": [
    {
     "data": {
      "text/html": [
       "<div>\n",
       "<style scoped>\n",
       "    .dataframe tbody tr th:only-of-type {\n",
       "        vertical-align: middle;\n",
       "    }\n",
       "\n",
       "    .dataframe tbody tr th {\n",
       "        vertical-align: top;\n",
       "    }\n",
       "\n",
       "    .dataframe thead th {\n",
       "        text-align: right;\n",
       "    }\n",
       "</style>\n",
       "<table border=\"1\" class=\"dataframe\">\n",
       "  <thead>\n",
       "    <tr style=\"text-align: right;\">\n",
       "      <th></th>\n",
       "      <th>training</th>\n",
       "      <th>validation</th>\n",
       "    </tr>\n",
       "  </thead>\n",
       "  <tbody>\n",
       "    <tr>\n",
       "      <th>full model</th>\n",
       "      <td>0.655959</td>\n",
       "      <td>0.631179</td>\n",
       "    </tr>\n",
       "    <tr>\n",
       "      <th>best fitting</th>\n",
       "      <td>0.672866</td>\n",
       "      <td>0.627376</td>\n",
       "    </tr>\n",
       "    <tr>\n",
       "      <th>best predictive</th>\n",
       "      <td>0.641589</td>\n",
       "      <td>0.648923</td>\n",
       "    </tr>\n",
       "    <tr>\n",
       "      <th>regularized</th>\n",
       "      <td>0.657650</td>\n",
       "      <td>0.648923</td>\n",
       "    </tr>\n",
       "  </tbody>\n",
       "</table>\n",
       "</div>"
      ],
      "text/plain": [
       "                 training  validation\n",
       "full model       0.655959    0.631179\n",
       "best fitting     0.672866    0.627376\n",
       "best predictive  0.641589    0.648923\n",
       "regularized      0.657650    0.648923"
      ]
     },
     "execution_count": 50,
     "metadata": {},
     "output_type": "execute_result"
    }
   ],
   "source": [
    "pd.DataFrame(accuracies, index=['training', 'validation']).transpose()"
   ]
  },
  {
   "cell_type": "markdown",
   "metadata": {},
   "source": [
    "Regularization leads to a model that has good accuracy on both the training and validation set."
   ]
  },
  {
   "cell_type": "code",
   "execution_count": 51,
   "metadata": {},
   "outputs": [
    {
     "data": {
      "text/plain": [
       "<matplotlib.axes._subplots.AxesSubplot at 0x106136d30>"
      ]
     },
     "execution_count": 51,
     "metadata": {},
     "output_type": "execute_result"
    },
    {
     "data": {
      "image/png": "[encoded data removed]",
      "text/plain": [
       "<Figure size 432x288 with 1 Axes>"
      ]
     },
     "metadata": {
      "needs_background": "light"
     },
     "output_type": "display_data"
    }
   ],
   "source": [
    "cv_result = pd.DataFrame({\n",
    "    'Cs': logit_reg_L1.Cs_,\n",
    "    'cv_score': np.mean(logit_reg_L1.scores_[1], axis=0),\n",
    "    \n",
    "})\n",
    "cv_result.plot.line(x='Cs', y='cv_score', logx=True)"
   ]
  },
  {
   "cell_type": "code",
   "execution_count": 52,
   "metadata": {},
   "outputs": [
    {
     "name": "stdout",
     "output_type": "stream",
     "text": [
      "intercept  1.239216727766818\n"
     ]
    },
    {
     "data": {
      "text/html": [
       "<div>\n",
       "<style scoped>\n",
       "    .dataframe tbody tr th:only-of-type {\n",
       "        vertical-align: middle;\n",
       "    }\n",
       "\n",
       "    .dataframe tbody tr th {\n",
       "        vertical-align: top;\n",
       "    }\n",
       "\n",
       "    .dataframe thead th {\n",
       "        text-align: right;\n",
       "    }\n",
       "</style>\n",
       "<table border=\"1\" class=\"dataframe\">\n",
       "  <thead>\n",
       "    <tr style=\"text-align: right;\">\n",
       "      <th></th>\n",
       "      <th>unregularized</th>\n",
       "      <th>best_fitting</th>\n",
       "      <th>best_predictive</th>\n",
       "      <th>L1 regularized</th>\n",
       "    </tr>\n",
       "  </thead>\n",
       "  <tbody>\n",
       "    <tr>\n",
       "      <th>sellerRating</th>\n",
       "      <td>-0.000040</td>\n",
       "      <td>-0.000012</td>\n",
       "      <td>-0.000020</td>\n",
       "      <td>-0.000036</td>\n",
       "    </tr>\n",
       "    <tr>\n",
       "      <th>Duration</th>\n",
       "      <td>-0.080785</td>\n",
       "      <td>0.000000</td>\n",
       "      <td>0.000000</td>\n",
       "      <td>-0.085876</td>\n",
       "    </tr>\n",
       "    <tr>\n",
       "      <th>OpenPrice</th>\n",
       "      <td>-0.007146</td>\n",
       "      <td>-0.009041</td>\n",
       "      <td>-0.009020</td>\n",
       "      <td>-0.007419</td>\n",
       "    </tr>\n",
       "    <tr>\n",
       "      <th>Category_Books</th>\n",
       "      <td>-0.220607</td>\n",
       "      <td>0.000000</td>\n",
       "      <td>0.000000</td>\n",
       "      <td>-0.437808</td>\n",
       "    </tr>\n",
       "    <tr>\n",
       "      <th>Category_Clothing/Accessories</th>\n",
       "      <td>0.285479</td>\n",
       "      <td>0.000000</td>\n",
       "      <td>0.000000</td>\n",
       "      <td>-0.038999</td>\n",
       "    </tr>\n",
       "    <tr>\n",
       "      <th>Category_Coins/Stamps</th>\n",
       "      <td>-0.815631</td>\n",
       "      <td>0.000000</td>\n",
       "      <td>0.000000</td>\n",
       "      <td>-0.450466</td>\n",
       "    </tr>\n",
       "    <tr>\n",
       "      <th>Category_Collectibles</th>\n",
       "      <td>0.442175</td>\n",
       "      <td>0.000000</td>\n",
       "      <td>0.000000</td>\n",
       "      <td>0.442809</td>\n",
       "    </tr>\n",
       "    <tr>\n",
       "      <th>Category_Computer</th>\n",
       "      <td>0.982360</td>\n",
       "      <td>0.639226</td>\n",
       "      <td>0.000000</td>\n",
       "      <td>0.567203</td>\n",
       "    </tr>\n",
       "    <tr>\n",
       "      <th>Category_Electronics</th>\n",
       "      <td>1.540873</td>\n",
       "      <td>1.128596</td>\n",
       "      <td>1.039034</td>\n",
       "      <td>1.125243</td>\n",
       "    </tr>\n",
       "    <tr>\n",
       "      <th>Category_EverythingElse</th>\n",
       "      <td>-1.887026</td>\n",
       "      <td>0.000000</td>\n",
       "      <td>-0.479445</td>\n",
       "      <td>-0.455946</td>\n",
       "    </tr>\n",
       "    <tr>\n",
       "      <th>Category_Health/Beauty</th>\n",
       "      <td>-1.728272</td>\n",
       "      <td>-2.077200</td>\n",
       "      <td>0.000000</td>\n",
       "      <td>-1.426092</td>\n",
       "    </tr>\n",
       "    <tr>\n",
       "      <th>Category_Home/Garden</th>\n",
       "      <td>0.619485</td>\n",
       "      <td>0.000000</td>\n",
       "      <td>0.000000</td>\n",
       "      <td>0.464107</td>\n",
       "    </tr>\n",
       "    <tr>\n",
       "      <th>Category_Jewelry</th>\n",
       "      <td>-0.301259</td>\n",
       "      <td>-0.817193</td>\n",
       "      <td>0.000000</td>\n",
       "      <td>-0.649345</td>\n",
       "    </tr>\n",
       "    <tr>\n",
       "      <th>Category_Music/Movie/Game</th>\n",
       "      <td>0.503799</td>\n",
       "      <td>0.000000</td>\n",
       "      <td>0.586934</td>\n",
       "      <td>0.386435</td>\n",
       "    </tr>\n",
       "    <tr>\n",
       "      <th>Category_Photography</th>\n",
       "      <td>1.282746</td>\n",
       "      <td>0.000000</td>\n",
       "      <td>0.000000</td>\n",
       "      <td>0.236325</td>\n",
       "    </tr>\n",
       "    <tr>\n",
       "      <th>Category_Pottery/Glass</th>\n",
       "      <td>-0.332043</td>\n",
       "      <td>0.000000</td>\n",
       "      <td>0.000000</td>\n",
       "      <td>-0.168076</td>\n",
       "    </tr>\n",
       "    <tr>\n",
       "      <th>Category_SportingGoods</th>\n",
       "      <td>1.358508</td>\n",
       "      <td>0.000000</td>\n",
       "      <td>1.173969</td>\n",
       "      <td>1.271161</td>\n",
       "    </tr>\n",
       "    <tr>\n",
       "      <th>Category_Toys/Hobbies</th>\n",
       "      <td>0.648472</td>\n",
       "      <td>0.143210</td>\n",
       "      <td>0.000000</td>\n",
       "      <td>0.608254</td>\n",
       "    </tr>\n",
       "    <tr>\n",
       "      <th>currency_GBP</th>\n",
       "      <td>0.958213</td>\n",
       "      <td>0.000000</td>\n",
       "      <td>0.000000</td>\n",
       "      <td>0.244927</td>\n",
       "    </tr>\n",
       "    <tr>\n",
       "      <th>currency_US</th>\n",
       "      <td>-0.095301</td>\n",
       "      <td>0.000000</td>\n",
       "      <td>0.000000</td>\n",
       "      <td>-0.048313</td>\n",
       "    </tr>\n",
       "    <tr>\n",
       "      <th>endDay_Sat</th>\n",
       "      <td>-1.239433</td>\n",
       "      <td>-1.033639</td>\n",
       "      <td>0.000000</td>\n",
       "      <td>-1.201499</td>\n",
       "    </tr>\n",
       "    <tr>\n",
       "      <th>endDay_Sun_Fri</th>\n",
       "      <td>-0.954428</td>\n",
       "      <td>-0.749508</td>\n",
       "      <td>0.000000</td>\n",
       "      <td>-0.791568</td>\n",
       "    </tr>\n",
       "    <tr>\n",
       "      <th>endDay_Thu</th>\n",
       "      <td>-1.012888</td>\n",
       "      <td>0.000000</td>\n",
       "      <td>0.000000</td>\n",
       "      <td>-0.186941</td>\n",
       "    </tr>\n",
       "    <tr>\n",
       "      <th>endDay_Tue</th>\n",
       "      <td>-0.740699</td>\n",
       "      <td>-0.599479</td>\n",
       "      <td>0.000000</td>\n",
       "      <td>-0.445839</td>\n",
       "    </tr>\n",
       "    <tr>\n",
       "      <th>endDay_Wed</th>\n",
       "      <td>-0.915220</td>\n",
       "      <td>0.000000</td>\n",
       "      <td>0.000000</td>\n",
       "      <td>-0.470326</td>\n",
       "    </tr>\n",
       "  </tbody>\n",
       "</table>\n",
       "</div>"
      ],
      "text/plain": [
       "                               unregularized  best_fitting  best_predictive  \\\n",
       "sellerRating                       -0.000040     -0.000012        -0.000020   \n",
       "Duration                           -0.080785      0.000000         0.000000   \n",
       "OpenPrice                          -0.007146     -0.009041        -0.009020   \n",
       "Category_Books                     -0.220607      0.000000         0.000000   \n",
       "Category_Clothing/Accessories       0.285479      0.000000         0.000000   \n",
       "Category_Coins/Stamps              -0.815631      0.000000         0.000000   \n",
       "Category_Collectibles               0.442175      0.000000         0.000000   \n",
       "Category_Computer                   0.982360      0.639226         0.000000   \n",
       "Category_Electronics                1.540873      1.128596         1.039034   \n",
       "Category_EverythingElse            -1.887026      0.000000        -0.479445   \n",
       "Category_Health/Beauty             -1.728272     -2.077200         0.000000   \n",
       "Category_Home/Garden                0.619485      0.000000         0.000000   \n",
       "Category_Jewelry                   -0.301259     -0.817193         0.000000   \n",
       "Category_Music/Movie/Game           0.503799      0.000000         0.586934   \n",
       "Category_Photography                1.282746      0.000000         0.000000   \n",
       "Category_Pottery/Glass             -0.332043      0.000000         0.000000   \n",
       "Category_SportingGoods              1.358508      0.000000         1.173969   \n",
       "Category_Toys/Hobbies               0.648472      0.143210         0.000000   \n",
       "currency_GBP                        0.958213      0.000000         0.000000   \n",
       "currency_US                        -0.095301      0.000000         0.000000   \n",
       "endDay_Sat                         -1.239433     -1.033639         0.000000   \n",
       "endDay_Sun_Fri                     -0.954428     -0.749508         0.000000   \n",
       "endDay_Thu                         -1.012888      0.000000         0.000000   \n",
       "endDay_Tue                         -0.740699     -0.599479         0.000000   \n",
       "endDay_Wed                         -0.915220      0.000000         0.000000   \n",
       "\n",
       "                               L1 regularized  \n",
       "sellerRating                        -0.000036  \n",
       "Duration                            -0.085876  \n",
       "OpenPrice                           -0.007419  \n",
       "Category_Books                      -0.437808  \n",
       "Category_Clothing/Accessories       -0.038999  \n",
       "Category_Coins/Stamps               -0.450466  \n",
       "Category_Collectibles                0.442809  \n",
       "Category_Computer                    0.567203  \n",
       "Category_Electronics                 1.125243  \n",
       "Category_EverythingElse             -0.455946  \n",
       "Category_Health/Beauty              -1.426092  \n",
       "Category_Home/Garden                 0.464107  \n",
       "Category_Jewelry                    -0.649345  \n",
       "Category_Music/Movie/Game            0.386435  \n",
       "Category_Photography                 0.236325  \n",
       "Category_Pottery/Glass              -0.168076  \n",
       "Category_SportingGoods               1.271161  \n",
       "Category_Toys/Hobbies                0.608254  \n",
       "currency_GBP                         0.244927  \n",
       "currency_US                         -0.048313  \n",
       "endDay_Sat                          -1.201499  \n",
       "endDay_Sun_Fri                      -0.791568  \n",
       "endDay_Thu                          -0.186941  \n",
       "endDay_Tue                          -0.445839  \n",
       "endDay_Wed                          -0.470326  "
      ]
     },
     "execution_count": 52,
     "metadata": {},
     "output_type": "execute_result"
    }
   ],
   "source": [
    "# print coefficients\n",
    "print('intercept ', logit_reg.intercept_[0])\n",
    "coefficients = pd.DataFrame({\n",
    "    'unregularized': logit_reg.coef_[0], \n",
    "    'best_fitting': 0,\n",
    "    'best_predictive': 0,\n",
    "    'L1 regularized': logit_reg_L1.coef_[0],\n",
    "    }, index=X_train.columns)\n",
    "coefficients.loc[var_fitting, 'best_fitting'] = best_fitting.coef_.ravel()\n",
    "coefficients.loc[var_predictive, 'best_predictive'] = best_predictive.coef_.ravel()\n",
    "coefficients"
   ]
  },
  {
   "cell_type": "markdown",
   "metadata": {},
   "source": [
    "In general, we can see that for cases where both the best_fitting and the best_predictive model exclude a predictor, the coefficient in the regularized model is also closer to zero compared to the unregularized model."
   ]
  },
  {
   "cell_type": "markdown",
   "metadata": {},
   "source": [
    "__10.4.j.__ If the major objective is accurate classification, what cutoff value should be used?"
   ]
  },
  {
   "cell_type": "code",
   "execution_count": 53,
   "metadata": {},
   "outputs": [
    {
     "data": {
      "text/html": [
       "<div>\n",
       "<style scoped>\n",
       "    .dataframe tbody tr th:only-of-type {\n",
       "        vertical-align: middle;\n",
       "    }\n",
       "\n",
       "    .dataframe tbody tr th {\n",
       "        vertical-align: top;\n",
       "    }\n",
       "\n",
       "    .dataframe thead th {\n",
       "        text-align: right;\n",
       "    }\n",
       "</style>\n",
       "<table border=\"1\" class=\"dataframe\">\n",
       "  <thead>\n",
       "    <tr style=\"text-align: right;\">\n",
       "      <th></th>\n",
       "      <th>cutoff</th>\n",
       "      <th>accuracy</th>\n",
       "    </tr>\n",
       "  </thead>\n",
       "  <tbody>\n",
       "    <tr>\n",
       "      <th>505</th>\n",
       "      <td>0.505</td>\n",
       "      <td>0.651458</td>\n",
       "    </tr>\n",
       "    <tr>\n",
       "      <th>506</th>\n",
       "      <td>0.506</td>\n",
       "      <td>0.655260</td>\n",
       "    </tr>\n",
       "    <tr>\n",
       "      <th>507</th>\n",
       "      <td>0.507</td>\n",
       "      <td>0.653992</td>\n",
       "    </tr>\n",
       "  </tbody>\n",
       "</table>\n",
       "</div>"
      ],
      "text/plain": [
       "     cutoff  accuracy\n",
       "505   0.505  0.651458\n",
       "506   0.506  0.655260\n",
       "507   0.507  0.653992"
      ]
     },
     "execution_count": 53,
     "metadata": {},
     "output_type": "execute_result"
    },
    {
     "data": {
      "image/png": "[encoded data removed]",
      "text/plain": [
       "<Figure size 432x288 with 1 Axes>"
      ]
     },
     "metadata": {
      "needs_background": "light"
     },
     "output_type": "display_data"
    }
   ],
   "source": [
    "# Determine accuracy for different cutoff values between 0 and 1\n",
    "data = []\n",
    "for cutoff in [v / 1000 for v in range(1001)]:\n",
    "    data.append({'cutoff': cutoff, \n",
    "                 'accuracy': accuracy_score(y_valid, logit_reg_L1.predict_proba(X_valid)[:, 1] > cutoff)})\n",
    "data = pd.DataFrame(data)\n",
    "ax = data.plot.line(x='cutoff', y='accuracy')\n",
    "ax.axvline(x=0.5)\n",
    "\n",
    "data.iloc[data['accuracy'].argmax() - 1:data['accuracy'].argmax() + 2, :]"
   ]
  },
  {
   "cell_type": "markdown",
   "metadata": {},
   "source": [
    "The highest accuracy is achieved with the default cutoff close to 0.5"
   ]
  },
  {
   "cell_type": "markdown",
   "metadata": {},
   "source": [
    "__10.4.k.__ Based on these data, what auction settings set by the seller (duration, opening price, ending day, currency) would you recommend as being most likely to lead to a competitive auction?"
   ]
  },
  {
   "cell_type": "code",
   "execution_count": null,
   "metadata": {},
   "outputs": [],
   "source": [
    "# (35)??\n",
    "# write your answer here"
   ]
  }
 ],
 "metadata": {
  "kernelspec": {
   "display_name": "Python 3 (ipykernel)",
   "language": "python",
   "name": "python3"
  },
  "language_info": {
   "codemirror_mode": {
    "name": "ipython",
    "version": 3
   },
   "file_extension": ".py",
   "mimetype": "text/x-python",
   "name": "python",
   "nbconvert_exporter": "python",
   "pygments_lexer": "ipython3",
   "version": "3.9.7"
  }
 },
 "nbformat": 4,
 "nbformat_minor": 2
}
