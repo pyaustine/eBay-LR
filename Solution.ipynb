{
 "cells": [
  {
   "cell_type": "markdown",
   "metadata": {},
   "source": [
    "# Competitive Auctions on eBay.com. \n",
    "\n",
    "The file _eBayAuctions.csv_ contains information on 1972 auctions transacted on eBay.com during May–June 2004. The goal is to\n",
    "use these data to build a model that will distinguish competitive auctions from noncompetitive ones. A competitive auction is defined as an auction with at least two bids placed on the item being auctioned. The data include variables that describe the\n",
    "item (auction category), the seller (his or her eBay rating), and the auction terms that the seller selected (auction duration, opening price, currency, day of week of auction close). In addition, we have the price at which the auction closed. The goal is to predict whether or not an auction of interest will be competitive.\n",
    "\n"
   ]
  },
  {
   "cell_type": "code",
   "execution_count": 6,
   "metadata": {},
   "outputs": [
    {
     "ename": "ModuleNotFoundError",
     "evalue": "No module named 'numpy'",
     "output_type": "error",
     "traceback": [
      "\u001b[0;31m---------------------------------------------------------------------------\u001b[0m",
      "\u001b[0;31mModuleNotFoundError\u001b[0m                       Traceback (most recent call last)",
      "Cell \u001b[0;32mIn[6], line 5\u001b[0m\n\u001b[1;32m      2\u001b[0m \u001b[38;5;28;01mimport\u001b[39;00m \u001b[38;5;21;01mmath\u001b[39;00m\n\u001b[1;32m      4\u001b[0m \u001b[38;5;66;03m# Data Analysis\u001b[39;00m\n\u001b[0;32m----> 5\u001b[0m \u001b[38;5;28;01mimport\u001b[39;00m \u001b[38;5;21;01mnumpy\u001b[39;00m \u001b[38;5;28;01mas\u001b[39;00m \u001b[38;5;21;01mnp\u001b[39;00m\n\u001b[1;32m      6\u001b[0m \u001b[38;5;28;01mimport\u001b[39;00m \u001b[38;5;21;01mpandas\u001b[39;00m \u001b[38;5;28;01mas\u001b[39;00m \u001b[38;5;21;01mpd\u001b[39;00m\n\u001b[1;32m      8\u001b[0m \u001b[38;5;66;03m#Model\u001b[39;00m\n",
      "\u001b[0;31mModuleNotFoundError\u001b[0m: No module named 'numpy'"
     ]
    }
   ],
   "source": [
    "# Import required packages for this chapter\n",
    "import math\n",
    "\n",
    "# Data Analysis\n",
    "import numpy as np\n",
    "import pandas as pd\n",
    "\n",
    "#Model\n",
    "from sklearn.model_selection import train_test_split\n",
    "from sklearn.linear_model import LogisticRegression, LogisticRegressionCV\n",
    "from sklearn.metrics import accuracy_score\n",
    "\n",
    "import matplotlib.pylab as plt\n",
    "\n",
    "from dmba import classificationSummary\n",
    "from dmba import AIC_score\n",
    "from dmba import backward_elimination, forward_selection, stepwise_selection\n",
    "\n",
    "%matplotlib inline\n",
    "#warnings\n",
    "import warnings\n",
    "warnings.filterwarnings(\"ignore\")"
   ]
  },
  {
   "cell_type": "markdown",
   "metadata": {},
   "source": [
    "__Data preprocessing.__ Create dummy variables for the categorical predictors. These include Category (18 categories), Currency (USD, GBP, Euro), EndDay (Monday–Sunday), and Duration (1, 3, 5, 7, or 10 days)."
   ]
  },
  {
   "cell_type": "markdown",
   "metadata": {},
   "source": [
    "__a.__ Create pivot tables for the mean of the binary outcome (Competitive?) as a function of the various categorical variables (use the original variables, not the dummies). Use the information in the tables to reduce the number of dummies that will be used in the model. For example, categories that appear most similar with respect to the distribution of competitive auctions could be combined."
   ]
  },
  {
   "cell_type": "markdown",
   "metadata": {},
   "source": [
    "__Answer:__"
   ]
  },
  {
   "cell_type": "code",
   "execution_count": 1,
   "metadata": {},
   "outputs": [
    {
     "ename": "NameError",
     "evalue": "name 'pd' is not defined",
     "output_type": "error",
     "traceback": [
      "\u001b[0;31m---------------------------------------------------------------------------\u001b[0m",
      "\u001b[0;31mNameError\u001b[0m                                 Traceback (most recent call last)",
      "Cell \u001b[0;32mIn[1], line 2\u001b[0m\n\u001b[1;32m      1\u001b[0m \u001b[38;5;66;03m# load the data\u001b[39;00m\n\u001b[0;32m----> 2\u001b[0m ebay_df \u001b[38;5;241m=\u001b[39m \u001b[43mpd\u001b[49m\u001b[38;5;241m.\u001b[39mread_csv(\u001b[38;5;124m'\u001b[39m\u001b[38;5;124meBayAuctions.csv\u001b[39m\u001b[38;5;124m'\u001b[39m)\n\u001b[1;32m      3\u001b[0m ebay_df\u001b[38;5;241m.\u001b[39mcolumns\n",
      "\u001b[0;31mNameError\u001b[0m: name 'pd' is not defined"
     ]
    }
   ],
   "source": [
    "# load the data\n",
    "ebay_df = pd.read_csv('eBayAuctions.csv')\n",
    "ebay_df.columns"
   ]
  },
  {
   "cell_type": "code",
   "execution_count": 27,
   "metadata": {},
   "outputs": [
    {
     "data": {
      "text/plain": [
       "Index(['Category', 'currency', 'sellerRating', 'Duration', 'endDay',\n",
       "       'ClosePrice', 'OpenPrice', 'Competitive'],\n",
       "      dtype='object')"
      ]
     },
     "execution_count": 27,
     "metadata": {},
     "output_type": "execute_result"
    }
   ],
   "source": [
    "# prettify variable names\n",
    "ebay_df.columns = [c.replace('?', '') for c in ebay_df.columns]\n",
    "ebay_df.columns"
   ]
  },
  {
   "cell_type": "code",
   "execution_count": 28,
   "metadata": {},
   "outputs": [
    {
     "data": {
      "text/plain": [
       "Category         object\n",
       "currency         object\n",
       "sellerRating      int64\n",
       "Duration          int64\n",
       "endDay           object\n",
       "ClosePrice      float64\n",
       "OpenPrice       float64\n",
       "Competitive       int64\n",
       "dtype: object"
      ]
     },
     "execution_count": 28,
     "metadata": {},
     "output_type": "execute_result"
    }
   ],
   "source": [
    "# check the variable types\n",
    "ebay_df.dtypes"
   ]
  },
  {
   "cell_type": "code",
   "execution_count": 29,
   "metadata": {},
   "outputs": [
    {
     "data": {
      "text/html": [
       "<div>\n",
       "<style scoped>\n",
       "    .dataframe tbody tr th:only-of-type {\n",
       "        vertical-align: middle;\n",
       "    }\n",
       "\n",
       "    .dataframe tbody tr th {\n",
       "        vertical-align: top;\n",
       "    }\n",
       "\n",
       "    .dataframe thead tr th {\n",
       "        text-align: left;\n",
       "    }\n",
       "\n",
       "    .dataframe thead tr:last-of-type th {\n",
       "        text-align: right;\n",
       "    }\n",
       "</style>\n",
       "<table border=\"1\" class=\"dataframe\">\n",
       "  <thead>\n",
       "    <tr>\n",
       "      <th></th>\n",
       "      <th>mean</th>\n",
       "    </tr>\n",
       "    <tr>\n",
       "      <th></th>\n",
       "      <th>Competitive</th>\n",
       "    </tr>\n",
       "    <tr>\n",
       "      <th>Category</th>\n",
       "      <th></th>\n",
       "    </tr>\n",
       "  </thead>\n",
       "  <tbody>\n",
       "    <tr>\n",
       "      <th>Antique/Art/Craft</th>\n",
       "      <td>0.564972</td>\n",
       "    </tr>\n",
       "    <tr>\n",
       "      <th>Automotive</th>\n",
       "      <td>0.353933</td>\n",
       "    </tr>\n",
       "    <tr>\n",
       "      <th>Books</th>\n",
       "      <td>0.500000</td>\n",
       "    </tr>\n",
       "    <tr>\n",
       "      <th>Business/Industrial</th>\n",
       "      <td>0.666667</td>\n",
       "    </tr>\n",
       "    <tr>\n",
       "      <th>Clothing/Accessories</th>\n",
       "      <td>0.504202</td>\n",
       "    </tr>\n",
       "    <tr>\n",
       "      <th>Coins/Stamps</th>\n",
       "      <td>0.297297</td>\n",
       "    </tr>\n",
       "    <tr>\n",
       "      <th>Collectibles</th>\n",
       "      <td>0.577406</td>\n",
       "    </tr>\n",
       "    <tr>\n",
       "      <th>Computer</th>\n",
       "      <td>0.666667</td>\n",
       "    </tr>\n",
       "    <tr>\n",
       "      <th>Electronics</th>\n",
       "      <td>0.800000</td>\n",
       "    </tr>\n",
       "    <tr>\n",
       "      <th>EverythingElse</th>\n",
       "      <td>0.235294</td>\n",
       "    </tr>\n",
       "    <tr>\n",
       "      <th>Health/Beauty</th>\n",
       "      <td>0.171875</td>\n",
       "    </tr>\n",
       "    <tr>\n",
       "      <th>Home/Garden</th>\n",
       "      <td>0.656863</td>\n",
       "    </tr>\n",
       "    <tr>\n",
       "      <th>Jewelry</th>\n",
       "      <td>0.365854</td>\n",
       "    </tr>\n",
       "    <tr>\n",
       "      <th>Music/Movie/Game</th>\n",
       "      <td>0.602978</td>\n",
       "    </tr>\n",
       "    <tr>\n",
       "      <th>Photography</th>\n",
       "      <td>0.846154</td>\n",
       "    </tr>\n",
       "    <tr>\n",
       "      <th>Pottery/Glass</th>\n",
       "      <td>0.350000</td>\n",
       "    </tr>\n",
       "    <tr>\n",
       "      <th>SportingGoods</th>\n",
       "      <td>0.725806</td>\n",
       "    </tr>\n",
       "    <tr>\n",
       "      <th>Toys/Hobbies</th>\n",
       "      <td>0.529915</td>\n",
       "    </tr>\n",
       "  </tbody>\n",
       "</table>\n",
       "</div>"
      ],
      "text/plain": [
       "                            mean\n",
       "                     Competitive\n",
       "Category                        \n",
       "Antique/Art/Craft       0.564972\n",
       "Automotive              0.353933\n",
       "Books                   0.500000\n",
       "Business/Industrial     0.666667\n",
       "Clothing/Accessories    0.504202\n",
       "Coins/Stamps            0.297297\n",
       "Collectibles            0.577406\n",
       "Computer                0.666667\n",
       "Electronics             0.800000\n",
       "EverythingElse          0.235294\n",
       "Health/Beauty           0.171875\n",
       "Home/Garden             0.656863\n",
       "Jewelry                 0.365854\n",
       "Music/Movie/Game        0.602978\n",
       "Photography             0.846154\n",
       "Pottery/Glass           0.350000\n",
       "SportingGoods           0.725806\n",
       "Toys/Hobbies            0.529915"
      ]
     },
     "execution_count": 29,
     "metadata": {},
     "output_type": "execute_result"
    }
   ],
   "source": [
    "# pivot table of Competitive and Category\n",
    "pivot1 = pd.pivot_table(ebay_df, index= 'Category', values= \"Competitive\",\n",
    "               aggfunc= [np.mean])\n",
    "pivot1"
   ]
  },
  {
   "cell_type": "code",
   "execution_count": 30,
   "metadata": {},
   "outputs": [
    {
     "data": {
      "text/html": [
       "<div>\n",
       "<style scoped>\n",
       "    .dataframe tbody tr th:only-of-type {\n",
       "        vertical-align: middle;\n",
       "    }\n",
       "\n",
       "    .dataframe tbody tr th {\n",
       "        vertical-align: top;\n",
       "    }\n",
       "\n",
       "    .dataframe thead tr th {\n",
       "        text-align: left;\n",
       "    }\n",
       "\n",
       "    .dataframe thead tr:last-of-type th {\n",
       "        text-align: right;\n",
       "    }\n",
       "</style>\n",
       "<table border=\"1\" class=\"dataframe\">\n",
       "  <thead>\n",
       "    <tr>\n",
       "      <th></th>\n",
       "      <th>mean</th>\n",
       "    </tr>\n",
       "    <tr>\n",
       "      <th></th>\n",
       "      <th>Competitive</th>\n",
       "    </tr>\n",
       "    <tr>\n",
       "      <th>currency</th>\n",
       "      <th></th>\n",
       "    </tr>\n",
       "  </thead>\n",
       "  <tbody>\n",
       "    <tr>\n",
       "      <th>EUR</th>\n",
       "      <td>0.551595</td>\n",
       "    </tr>\n",
       "    <tr>\n",
       "      <th>GBP</th>\n",
       "      <td>0.687075</td>\n",
       "    </tr>\n",
       "    <tr>\n",
       "      <th>US</th>\n",
       "      <td>0.519350</td>\n",
       "    </tr>\n",
       "  </tbody>\n",
       "</table>\n",
       "</div>"
      ],
      "text/plain": [
       "                mean\n",
       "         Competitive\n",
       "currency            \n",
       "EUR         0.551595\n",
       "GBP         0.687075\n",
       "US          0.519350"
      ]
     },
     "execution_count": 30,
     "metadata": {},
     "output_type": "execute_result"
    }
   ],
   "source": [
    "# pivot table of Competitive and \n",
    "pivot2 = pd.pivot_table(ebay_df, index= 'currency', values= \"Competitive\",\n",
    "               aggfunc= [np.mean])\n",
    "pivot2"
   ]
  },
  {
   "cell_type": "code",
   "execution_count": 31,
   "metadata": {},
   "outputs": [
    {
     "data": {
      "text/html": [
       "<div>\n",
       "<style scoped>\n",
       "    .dataframe tbody tr th:only-of-type {\n",
       "        vertical-align: middle;\n",
       "    }\n",
       "\n",
       "    .dataframe tbody tr th {\n",
       "        vertical-align: top;\n",
       "    }\n",
       "\n",
       "    .dataframe thead tr th {\n",
       "        text-align: left;\n",
       "    }\n",
       "\n",
       "    .dataframe thead tr:last-of-type th {\n",
       "        text-align: right;\n",
       "    }\n",
       "</style>\n",
       "<table border=\"1\" class=\"dataframe\">\n",
       "  <thead>\n",
       "    <tr>\n",
       "      <th></th>\n",
       "      <th>mean</th>\n",
       "    </tr>\n",
       "    <tr>\n",
       "      <th></th>\n",
       "      <th>Competitive</th>\n",
       "    </tr>\n",
       "    <tr>\n",
       "      <th>endDay</th>\n",
       "      <th></th>\n",
       "    </tr>\n",
       "  </thead>\n",
       "  <tbody>\n",
       "    <tr>\n",
       "      <th>Fri</th>\n",
       "      <td>0.466899</td>\n",
       "    </tr>\n",
       "    <tr>\n",
       "      <th>Mon</th>\n",
       "      <td>0.673358</td>\n",
       "    </tr>\n",
       "    <tr>\n",
       "      <th>Sat</th>\n",
       "      <td>0.427350</td>\n",
       "    </tr>\n",
       "    <tr>\n",
       "      <th>Sun</th>\n",
       "      <td>0.485207</td>\n",
       "    </tr>\n",
       "    <tr>\n",
       "      <th>Thu</th>\n",
       "      <td>0.603960</td>\n",
       "    </tr>\n",
       "    <tr>\n",
       "      <th>Tue</th>\n",
       "      <td>0.532164</td>\n",
       "    </tr>\n",
       "    <tr>\n",
       "      <th>Wed</th>\n",
       "      <td>0.480000</td>\n",
       "    </tr>\n",
       "  </tbody>\n",
       "</table>\n",
       "</div>"
      ],
      "text/plain": [
       "              mean\n",
       "       Competitive\n",
       "endDay            \n",
       "Fri       0.466899\n",
       "Mon       0.673358\n",
       "Sat       0.427350\n",
       "Sun       0.485207\n",
       "Thu       0.603960\n",
       "Tue       0.532164\n",
       "Wed       0.480000"
      ]
     },
     "execution_count": 31,
     "metadata": {},
     "output_type": "execute_result"
    }
   ],
   "source": [
    "# pivot table of Competitive and Category\n",
    "pivot3 = pd.pivot_table(ebay_df, index= 'endDay', values= \"Competitive\",\n",
    "               aggfunc= [np.mean])\n",
    "pivot3"
   ]
  },
  {
   "cell_type": "markdown",
   "metadata": {},
   "source": [
    "The categories \"Business/Industrials\" and \"Computers\" have same average of the binary variable \"Competitive.\" This means that the percentage of competitive auctions in each of these two categories is equal. Hence we can combine the two categories into a single category called \"Computers.\" Similarly, the average of \"competitive\" for the categories \"Antique/Art/Craft\" and \"Collectibles\" are almost same. Therefore, we can combine them into a single category called \"collectibles\". The auction ending days \"Sunday\" and \"Friday\" have approximately equal averages for \"competitive\". So we can combine them into a single category called \"Sun_Fri\"."
   ]
  },
  {
   "cell_type": "code",
   "execution_count": 32,
   "metadata": {
    "scrolled": true
   },
   "outputs": [],
   "source": [
    "ebay_df.loc[ebay_df.endDay == 'Sun', 'endDay'] = 'Sun_Fri'\n",
    "ebay_df.loc[ebay_df.endDay == 'Fri', 'endDay'] = 'Sun_Fri'\n",
    "\n",
    "ebay_df.loc[ebay_df.Category == \"Business/Industrial\", 'Category'] = 'Computer'\n",
    "ebay_df.loc[ebay_df.Category == \"Antique/Art/Craft\", 'Category'] = 'Collectibles'"
   ]
  },
  {
   "cell_type": "code",
   "execution_count": 33,
   "metadata": {
    "scrolled": false
   },
   "outputs": [
    {
     "data": {
      "text/html": [
       "<div>\n",
       "<style scoped>\n",
       "    .dataframe tbody tr th:only-of-type {\n",
       "        vertical-align: middle;\n",
       "    }\n",
       "\n",
       "    .dataframe tbody tr th {\n",
       "        vertical-align: top;\n",
       "    }\n",
       "\n",
       "    .dataframe thead tr th {\n",
       "        text-align: left;\n",
       "    }\n",
       "\n",
       "    .dataframe thead tr:last-of-type th {\n",
       "        text-align: right;\n",
       "    }\n",
       "</style>\n",
       "<table border=\"1\" class=\"dataframe\">\n",
       "  <thead>\n",
       "    <tr>\n",
       "      <th></th>\n",
       "      <th>mean</th>\n",
       "    </tr>\n",
       "    <tr>\n",
       "      <th></th>\n",
       "      <th>Competitive</th>\n",
       "    </tr>\n",
       "    <tr>\n",
       "      <th>Category</th>\n",
       "      <th></th>\n",
       "    </tr>\n",
       "  </thead>\n",
       "  <tbody>\n",
       "    <tr>\n",
       "      <th>Automotive</th>\n",
       "      <td>0.353933</td>\n",
       "    </tr>\n",
       "    <tr>\n",
       "      <th>Books</th>\n",
       "      <td>0.500000</td>\n",
       "    </tr>\n",
       "    <tr>\n",
       "      <th>Clothing/Accessories</th>\n",
       "      <td>0.504202</td>\n",
       "    </tr>\n",
       "    <tr>\n",
       "      <th>Coins/Stamps</th>\n",
       "      <td>0.297297</td>\n",
       "    </tr>\n",
       "    <tr>\n",
       "      <th>Collectibles</th>\n",
       "      <td>0.572115</td>\n",
       "    </tr>\n",
       "    <tr>\n",
       "      <th>Computer</th>\n",
       "      <td>0.666667</td>\n",
       "    </tr>\n",
       "    <tr>\n",
       "      <th>Electronics</th>\n",
       "      <td>0.800000</td>\n",
       "    </tr>\n",
       "    <tr>\n",
       "      <th>EverythingElse</th>\n",
       "      <td>0.235294</td>\n",
       "    </tr>\n",
       "    <tr>\n",
       "      <th>Health/Beauty</th>\n",
       "      <td>0.171875</td>\n",
       "    </tr>\n",
       "    <tr>\n",
       "      <th>Home/Garden</th>\n",
       "      <td>0.656863</td>\n",
       "    </tr>\n",
       "    <tr>\n",
       "      <th>Jewelry</th>\n",
       "      <td>0.365854</td>\n",
       "    </tr>\n",
       "    <tr>\n",
       "      <th>Music/Movie/Game</th>\n",
       "      <td>0.602978</td>\n",
       "    </tr>\n",
       "    <tr>\n",
       "      <th>Photography</th>\n",
       "      <td>0.846154</td>\n",
       "    </tr>\n",
       "    <tr>\n",
       "      <th>Pottery/Glass</th>\n",
       "      <td>0.350000</td>\n",
       "    </tr>\n",
       "    <tr>\n",
       "      <th>SportingGoods</th>\n",
       "      <td>0.725806</td>\n",
       "    </tr>\n",
       "    <tr>\n",
       "      <th>Toys/Hobbies</th>\n",
       "      <td>0.529915</td>\n",
       "    </tr>\n",
       "  </tbody>\n",
       "</table>\n",
       "</div>"
      ],
      "text/plain": [
       "                            mean\n",
       "                     Competitive\n",
       "Category                        \n",
       "Automotive              0.353933\n",
       "Books                   0.500000\n",
       "Clothing/Accessories    0.504202\n",
       "Coins/Stamps            0.297297\n",
       "Collectibles            0.572115\n",
       "Computer                0.666667\n",
       "Electronics             0.800000\n",
       "EverythingElse          0.235294\n",
       "Health/Beauty           0.171875\n",
       "Home/Garden             0.656863\n",
       "Jewelry                 0.365854\n",
       "Music/Movie/Game        0.602978\n",
       "Photography             0.846154\n",
       "Pottery/Glass           0.350000\n",
       "SportingGoods           0.725806\n",
       "Toys/Hobbies            0.529915"
      ]
     },
     "execution_count": 33,
     "metadata": {},
     "output_type": "execute_result"
    }
   ],
   "source": [
    "# pivot table of Competitive and Category\n",
    "pivot1 = pd.pivot_table(ebay_df, index= 'Category', values= \"Competitive\",\n",
    "               aggfunc= [np.mean])\n",
    "pivot1"
   ]
  },
  {
   "cell_type": "code",
   "execution_count": 34,
   "metadata": {},
   "outputs": [
    {
     "data": {
      "text/html": [
       "<div>\n",
       "<style scoped>\n",
       "    .dataframe tbody tr th:only-of-type {\n",
       "        vertical-align: middle;\n",
       "    }\n",
       "\n",
       "    .dataframe tbody tr th {\n",
       "        vertical-align: top;\n",
       "    }\n",
       "\n",
       "    .dataframe thead tr th {\n",
       "        text-align: left;\n",
       "    }\n",
       "\n",
       "    .dataframe thead tr:last-of-type th {\n",
       "        text-align: right;\n",
       "    }\n",
       "</style>\n",
       "<table border=\"1\" class=\"dataframe\">\n",
       "  <thead>\n",
       "    <tr>\n",
       "      <th></th>\n",
       "      <th>mean</th>\n",
       "    </tr>\n",
       "    <tr>\n",
       "      <th></th>\n",
       "      <th>Competitive</th>\n",
       "    </tr>\n",
       "    <tr>\n",
       "      <th>endDay</th>\n",
       "      <th></th>\n",
       "    </tr>\n",
       "  </thead>\n",
       "  <tbody>\n",
       "    <tr>\n",
       "      <th>Mon</th>\n",
       "      <td>0.673358</td>\n",
       "    </tr>\n",
       "    <tr>\n",
       "      <th>Sat</th>\n",
       "      <td>0.427350</td>\n",
       "    </tr>\n",
       "    <tr>\n",
       "      <th>Sun_Fri</th>\n",
       "      <td>0.476800</td>\n",
       "    </tr>\n",
       "    <tr>\n",
       "      <th>Thu</th>\n",
       "      <td>0.603960</td>\n",
       "    </tr>\n",
       "    <tr>\n",
       "      <th>Tue</th>\n",
       "      <td>0.532164</td>\n",
       "    </tr>\n",
       "    <tr>\n",
       "      <th>Wed</th>\n",
       "      <td>0.480000</td>\n",
       "    </tr>\n",
       "  </tbody>\n",
       "</table>\n",
       "</div>"
      ],
      "text/plain": [
       "               mean\n",
       "        Competitive\n",
       "endDay             \n",
       "Mon        0.673358\n",
       "Sat        0.427350\n",
       "Sun_Fri    0.476800\n",
       "Thu        0.603960\n",
       "Tue        0.532164\n",
       "Wed        0.480000"
      ]
     },
     "execution_count": 34,
     "metadata": {},
     "output_type": "execute_result"
    }
   ],
   "source": [
    "# pivot table of Competitive and Category\n",
    "pivot3 = pd.pivot_table(ebay_df, index= 'endDay', values= \"Competitive\",\n",
    "               aggfunc= [np.mean])\n",
    "pivot3"
   ]
  },
  {
   "cell_type": "markdown",
   "metadata": {},
   "source": [
    "__10.4.b.__ Split the data into training (60%) and validation (40%) datasets. Run a logistic model with all predictors with a cutoff of 0.5."
   ]
  },
  {
   "cell_type": "markdown",
   "metadata": {},
   "source": [
    "__Answer:__"
   ]
  },
  {
   "cell_type": "markdown",
   "metadata": {},
   "source": [
    "Split the data into training (60%) and validation (40%) datasets. Use the random seed 202."
   ]
  },
  {
   "cell_type": "code",
   "execution_count": 35,
   "metadata": {},
   "outputs": [],
   "source": [
    "# change variable types to appropriate ones\n",
    "ebay_df['Category'] = ebay_df['Category'].astype('category')\n",
    "ebay_df['currency'] = ebay_df['currency'].astype('category')\n",
    "ebay_df['endDay'] = ebay_df['endDay'].astype('category')\n",
    "\n",
    "# convert categorical variables into indicator and drop the first column of each of them\n",
    "ebay_df = pd.get_dummies(ebay_df, prefix_sep='_')\n",
    "ebay_df.drop(columns=['Category_Automotive', 'currency_EUR', 'endDay_Mon'], inplace=True)\n"
   ]
  },
  {
   "cell_type": "code",
   "execution_count": 36,
   "metadata": {},
   "outputs": [],
   "source": [
    "# predictor and response variables\n",
    "ebay_df['Competitive'] = ebay_df['Competitive'].astype('category')\n",
    "outcome = 'Competitive'\n",
    "predictors = list(ebay_df.columns)\n",
    "predictors.remove(outcome)\n",
    "y = ebay_df[outcome]\n",
    "X = ebay_df[predictors]"
   ]
  },
  {
   "cell_type": "code",
   "execution_count": 37,
   "metadata": {},
   "outputs": [],
   "source": [
    "# split the data into training and validation sets\n",
    "X_train, X_valid, y_train, y_valid = train_test_split(X, y, test_size=0.40, random_state=202)"
   ]
  },
  {
   "cell_type": "code",
   "execution_count": 38,
   "metadata": {},
   "outputs": [
    {
     "data": {
      "text/plain": [
       "LogisticRegression(C=1e+42, class_weight=None, dual=False, fit_intercept=True,\n",
       "                   intercept_scaling=1, l1_ratio=None, max_iter=100,\n",
       "                   multi_class='auto', n_jobs=None, penalty='l2',\n",
       "                   random_state=None, solver='liblinear', tol=0.0001, verbose=0,\n",
       "                   warm_start=False)"
      ]
     },
     "execution_count": 38,
     "metadata": {},
     "output_type": "execute_result"
    }
   ],
   "source": [
    "# fit a logistic regression (set penalty=l2 and C=1e42 to avoid regularization)\n",
    "logit_reg = LogisticRegression(penalty=\"l2\", C=1e42, solver='liblinear')\n",
    "classes = list(y.cat.categories)\n",
    "logit_reg.fit(X_train, y_train)"
   ]
  },
  {
   "cell_type": "code",
   "execution_count": 39,
   "metadata": {},
   "outputs": [
    {
     "name": "stdout",
     "output_type": "stream",
     "text": [
      "intercept  -0.16233820301376703\n",
      "       sellerRating  Duration  ClosePrice  OpenPrice  Category_Books  \\\n",
      "coeff     -0.000037 -0.009712    0.084273  -0.098255       -0.030295   \n",
      "\n",
      "       Category_Clothing/Accessories  Category_Coins/Stamps  \\\n",
      "coeff                      -0.525984              -0.962637   \n",
      "\n",
      "       Category_Collectibles  Category_Computer  Category_Electronics  ...  \\\n",
      "coeff                0.43238           0.501414              1.162978  ...   \n",
      "\n",
      "       Category_Pottery/Glass  Category_SportingGoods  Category_Toys/Hobbies  \\\n",
      "coeff                -0.17042                0.485073               0.706662   \n",
      "\n",
      "       currency_GBP  currency_US  endDay_Sat  endDay_Sun_Fri  endDay_Thu  \\\n",
      "coeff      1.174816     0.305728    -1.05426       -0.711331   -0.724128   \n",
      "\n",
      "       endDay_Tue  endDay_Wed  \n",
      "coeff   -0.724097   -0.838984  \n",
      "\n",
      "[1 rows x 26 columns]\n"
     ]
    }
   ],
   "source": [
    "# print coefficients\n",
    "print('intercept ', logit_reg.intercept_[0])\n",
    "print(pd.DataFrame({'coeff': logit_reg.coef_[0]}, index=X.columns).transpose())"
   ]
  },
  {
   "cell_type": "code",
   "execution_count": 40,
   "metadata": {},
   "outputs": [
    {
     "name": "stdout",
     "output_type": "stream",
     "text": [
      "Confusion Matrix (Accuracy 0.7592)\n",
      "\n",
      "       Prediction\n",
      "Actual   0   1\n",
      "     0 289  74\n",
      "     1 116 310\n"
     ]
    }
   ],
   "source": [
    "# confusion matrix\n",
    "# predicted y for validation set\n",
    "val_pred = logit_reg.predict(X_valid)\n",
    "# Confusion matrix\n",
    "classificationSummary(y_valid, val_pred, class_names=classes)"
   ]
  },
  {
   "cell_type": "markdown",
   "metadata": {},
   "source": [
    "__10.4.c.__ If we want to predict at the start of an auction whether it will be competitive, we cannot use the information on the closing price. Run a logistic model with all predictors as above, excluding price. How does this model compare to the full\n",
    "model with respect to predictive accuracy?"
   ]
  },
  {
   "cell_type": "markdown",
   "metadata": {},
   "source": [
    "__Answer:__"
   ]
  },
  {
   "cell_type": "code",
   "execution_count": 41,
   "metadata": {},
   "outputs": [],
   "source": [
    "# drop the predictor 'ClosePrice'\n",
    "X_train = X_train.drop(columns=['ClosePrice'])\n",
    "X_valid = X_valid.drop(columns=['ClosePrice'])"
   ]
  },
  {
   "cell_type": "code",
   "execution_count": 42,
   "metadata": {},
   "outputs": [
    {
     "data": {
      "text/plain": [
       "LogisticRegression(C=1e+42, class_weight=None, dual=False, fit_intercept=True,\n",
       "                   intercept_scaling=1, l1_ratio=None, max_iter=100,\n",
       "                   multi_class='auto', n_jobs=None, penalty='l2',\n",
       "                   random_state=None, solver='liblinear', tol=0.0001, verbose=0,\n",
       "                   warm_start=False)"
      ]
     },
     "execution_count": 42,
     "metadata": {},
     "output_type": "execute_result"
    }
   ],
   "source": [
    "# fit a logistic regression (set penalty=l2 and C=1e42 to avoid regularization)\n",
    "logit_reg = LogisticRegression(penalty=\"l2\", C=1e42, solver='liblinear')\n",
    "logit_reg.fit(X_train, y_train)"
   ]
  },
  {
   "cell_type": "code",
   "execution_count": 43,
   "metadata": {},
   "outputs": [
    {
     "name": "stdout",
     "output_type": "stream",
     "text": [
      "intercept  1.239216727766818\n",
      "       sellerRating  Duration  OpenPrice  Category_Books  \\\n",
      "coeff      -0.00004 -0.080785  -0.007146       -0.220607   \n",
      "\n",
      "       Category_Clothing/Accessories  Category_Coins/Stamps  \\\n",
      "coeff                       0.285479              -0.815631   \n",
      "\n",
      "       Category_Collectibles  Category_Computer  Category_Electronics  \\\n",
      "coeff               0.442175            0.98236              1.540873   \n",
      "\n",
      "       Category_EverythingElse  ...  Category_Pottery/Glass  \\\n",
      "coeff                -1.887026  ...               -0.332043   \n",
      "\n",
      "       Category_SportingGoods  Category_Toys/Hobbies  currency_GBP  \\\n",
      "coeff                1.358508               0.648472      0.958213   \n",
      "\n",
      "       currency_US  endDay_Sat  endDay_Sun_Fri  endDay_Thu  endDay_Tue  \\\n",
      "coeff    -0.095301   -1.239433       -0.954428   -1.012888   -0.740699   \n",
      "\n",
      "       endDay_Wed  \n",
      "coeff    -0.91522  \n",
      "\n",
      "[1 rows x 25 columns]\n"
     ]
    }
   ],
   "source": [
    "# print coefficients\n",
    "print('intercept ', logit_reg.intercept_[0])\n",
    "print(pd.DataFrame({'coeff': logit_reg.coef_[0]}, index=X_train.columns).transpose())"
   ]
  },
  {
   "cell_type": "code",
   "execution_count": 44,
   "metadata": {},
   "outputs": [
    {
     "name": "stdout",
     "output_type": "stream",
     "text": [
      "Confusion Matrix (Accuracy 0.6312)\n",
      "\n",
      "       Prediction\n",
      "Actual   0   1\n",
      "     0 213 150\n",
      "     1 141 285\n"
     ]
    }
   ],
   "source": [
    "# confusion matrix\n",
    "# predicted y for validation set\n",
    "val_pred = logit_reg.predict(X_valid)\n",
    "# Confusion matrix\n",
    "classificationSummary(y_valid, val_pred, class_names=classes)\n",
    "\n",
    "# Keep track of results\n",
    "accuracies = {}\n",
    "accuracies['full model'] = [accuracy_score(y_train, logit_reg.predict(X_train)), accuracy_score(y_valid, val_pred)]"
   ]
  },
  {
   "cell_type": "markdown",
   "metadata": {},
   "source": [
    "# (32)??\n",
    "The overall error rate for the full model (1-0.7605 = 23.95%) is much lower than that for the model excluding \"close price\" (36.63%). Hence the model excluding \"close price\" has ?? predictive accuracy compared to the full model."
   ]
  },
  {
   "cell_type": "markdown",
   "metadata": {},
   "source": [
    "__10.4.d.__ Interpret the meaning of the coefficient for closing price. Does closing price have a practical significance? Is it statistically significant for predicting competitiveness of auctions? (Use a 10% significance level.)"
   ]
  },
  {
   "cell_type": "markdown",
   "metadata": {},
   "source": [
    "__Answer:__ "
   ]
  },
  {
   "cell_type": "markdown",
   "metadata": {},
   "source": [
    "The coefficient for \"close price\" is 0.084431. This positive coefficient means that higher closing prices are associated with a higher probability of the auction being competitive."
   ]
  },
  {
   "cell_type": "code",
   "execution_count": 45,
   "metadata": {},
   "outputs": [
    {
     "data": {
      "text/plain": [
       "1.088097762896088"
      ]
     },
     "execution_count": 45,
     "metadata": {},
     "output_type": "execute_result"
    }
   ],
   "source": [
    "# odds coefficient for close price\n",
    "math.exp(0.084431)"
   ]
  },
  {
   "cell_type": "markdown",
   "metadata": {},
   "source": [
    "Looking at the odds coefficient (1.1), we see that every $1 increase in the closing price increases the odds of the auction being competitive by a factor of 1.1. We will not use ClosePrice in the remaining questions since closing price won't be available at the time making predictions."
   ]
  },
  {
   "cell_type": "markdown",
   "metadata": {},
   "source": [
    "__10.4.e.__ Use stepwise regression as described in chapter 6.4 to find the model with the best fit to the training data (highest accuracy). Which predictors are used?"
   ]
  },
  {
   "cell_type": "code",
   "execution_count": 46,
   "metadata": {},
   "outputs": [
    {
     "name": "stdout",
     "output_type": "stream",
     "text": [
      "Variables: sellerRating, Duration, OpenPrice, Category_Books, Category_Clothing/Accessories, Category_Coins/Stamps, Category_Collectibles, Category_Computer, Category_Electronics, Category_EverythingElse, Category_Health/Beauty, Category_Home/Garden, Category_Jewelry, Category_Music/Movie/Game, Category_Photography, Category_Pottery/Glass, Category_SportingGoods, Category_Toys/Hobbies, currency_GBP, currency_US, endDay_Sat, endDay_Sun_Fri, endDay_Thu, endDay_Tue, endDay_Wed\n",
      "Start: score=0.00, constant\n",
      "Step: score=-0.57, add endDay_Sat\n",
      "Step: score=-0.60, add endDay_Sun_Fri\n",
      "Step: score=-0.61, add Category_Electronics\n",
      "Step: score=-0.62, add Category_Toys/Hobbies\n",
      "Step: score=-0.63, add Category_Jewelry\n",
      "Step: score=-0.63, add Category_Computer\n",
      "Step: score=-0.64, add Category_Health/Beauty\n",
      "Step: score=-0.67, add OpenPrice\n",
      "Step: score=-0.67, add endDay_Tue\n",
      "Step: score=-0.67, add sellerRating\n",
      "Step: score=-0.67, unchanged None\n",
      "['Category_Computer', 'Category_Electronics', 'Category_Health/Beauty', 'Category_Jewelry', 'Category_Toys/Hobbies', 'OpenPrice', 'endDay_Sat', 'endDay_Sun_Fri', 'endDay_Tue', 'sellerRating']\n",
      "Confusion Matrix (Accuracy 0.6274)\n",
      "\n",
      "       Prediction\n",
      "Actual   0   1\n",
      "     0 196 167\n",
      "     1 127 299\n"
     ]
    }
   ],
   "source": [
    "def train_model(variables):\n",
    "    if len(variables) == 0:\n",
    "        return None\n",
    "    model = LogisticRegression(penalty=\"l2\", C=1e42, solver='liblinear')\n",
    "    \n",
    "    model.fit(X_train[list(variables)], y_train)\n",
    "    return model\n",
    "\n",
    "def score_model(model, variables):\n",
    "    if len(variables) == 0:\n",
    "        return 0\n",
    "    y_pred = model.predict(X_train[list(variables)])\n",
    "    # we negate as score is optimized to be as low as possible\n",
    "    return -accuracy_score(y_train, y_pred)\n",
    "\n",
    "allVariables = X_train.columns\n",
    "best_fitting, var_fitting = stepwise_selection(allVariables, train_model, \n",
    "                                score_model, verbose=True)\n",
    "print(sorted(var_fitting))\n",
    "\n",
    "\n",
    "# Confusion matrix\n",
    "y_pred = best_fitting.predict(X_valid[list(var_fitting)])\n",
    "classificationSummary(y_valid, y_pred, class_names=classes)\n",
    "\n",
    "accuracies['best fitting'] = [accuracy_score(y_train, best_fitting.predict(X_train[list(var_fitting)])), \n",
    "                              accuracy_score(y_valid, y_pred)]"
   ]
  },
  {
   "cell_type": "markdown",
   "metadata": {},
   "source": [
    "__10.4.f.__ Use stepwise regression to find the model with the highest accuracy on the validation data. Which predictors are used?"
   ]
  },
  {
   "cell_type": "markdown",
   "metadata": {},
   "source": [
    "__Answer:__"
   ]
  },
  {
   "cell_type": "code",
   "execution_count": 47,
   "metadata": {},
   "outputs": [
    {
     "name": "stdout",
     "output_type": "stream",
     "text": [
      "Variables: sellerRating, Duration, OpenPrice, Category_Books, Category_Clothing/Accessories, Category_Coins/Stamps, Category_Collectibles, Category_Computer, Category_Electronics, Category_EverythingElse, Category_Health/Beauty, Category_Home/Garden, Category_Jewelry, Category_Music/Movie/Game, Category_Photography, Category_Pottery/Glass, Category_SportingGoods, Category_Toys/Hobbies, currency_GBP, currency_US, endDay_Sat, endDay_Sun_Fri, endDay_Thu, endDay_Tue, endDay_Wed\n",
      "Start: score=0.00, constant\n",
      "Step: score=-0.57, add OpenPrice\n",
      "Step: score=-0.58, add Category_Music/Movie/Game\n",
      "Step: score=-0.60, add Category_SportingGoods\n",
      "Step: score=-0.63, add Category_Electronics\n",
      "Step: score=-0.64, add sellerRating\n",
      "Step: score=-0.65, add Category_EverythingElse\n",
      "Step: score=-0.65, unchanged None\n",
      "['Category_Electronics', 'Category_EverythingElse', 'Category_Music/Movie/Game', 'Category_SportingGoods', 'OpenPrice', 'sellerRating']\n",
      "Confusion Matrix (Accuracy 0.6489)\n",
      "\n",
      "       Prediction\n",
      "Actual   0   1\n",
      "     0 163 200\n",
      "     1  77 349\n"
     ]
    }
   ],
   "source": [
    "def score_model(model, variables):\n",
    "    if len(variables) == 0:\n",
    "        return 0\n",
    "    y_pred = model.predict(X_valid[list(variables)])\n",
    "    # we negate as score is optimized to be as low as possible\n",
    "    return -accuracy_score(y_valid, y_pred)\n",
    "\n",
    "allVariables = X_train.columns\n",
    "best_predictive, var_predictive = stepwise_selection(allVariables, train_model, \n",
    "                                score_model, verbose=True)\n",
    "print(sorted(var_predictive))\n",
    "\n",
    "# Confusion matrix\n",
    "y_pred = best_predictive.predict(X_valid[list(var_predictive)])\n",
    "classificationSummary(y_valid, y_pred, class_names=classes)\n",
    "\n",
    "accuracies['best predictive'] = [accuracy_score(y_train, best_predictive.predict(X_train[list(var_predictive)])), \n",
    "                                 accuracy_score(y_valid, y_pred)]"
   ]
  },
  {
   "cell_type": "markdown",
   "metadata": {},
   "source": [
    "__10.4.g.__ What is the danger of using the best predictive model that you found?"
   ]
  },
  {
   "cell_type": "markdown",
   "metadata": {},
   "source": [
    "__Answer:__ "
   ]
  },
  {
   "cell_type": "code",
   "execution_count": 48,
   "metadata": {
    "scrolled": true
   },
   "outputs": [
    {
     "data": {
      "text/html": [
       "<div>\n",
       "<style scoped>\n",
       "    .dataframe tbody tr th:only-of-type {\n",
       "        vertical-align: middle;\n",
       "    }\n",
       "\n",
       "    .dataframe tbody tr th {\n",
       "        vertical-align: top;\n",
       "    }\n",
       "\n",
       "    .dataframe thead th {\n",
       "        text-align: right;\n",
       "    }\n",
       "</style>\n",
       "<table border=\"1\" class=\"dataframe\">\n",
       "  <thead>\n",
       "    <tr style=\"text-align: right;\">\n",
       "      <th></th>\n",
       "      <th>training</th>\n",
       "      <th>validation</th>\n",
       "    </tr>\n",
       "  </thead>\n",
       "  <tbody>\n",
       "    <tr>\n",
       "      <th>full model</th>\n",
       "      <td>0.655959</td>\n",
       "      <td>0.631179</td>\n",
       "    </tr>\n",
       "    <tr>\n",
       "      <th>best fitting</th>\n",
       "      <td>0.672866</td>\n",
       "      <td>0.627376</td>\n",
       "    </tr>\n",
       "    <tr>\n",
       "      <th>best predictive</th>\n",
       "      <td>0.641589</td>\n",
       "      <td>0.648923</td>\n",
       "    </tr>\n",
       "  </tbody>\n",
       "</table>\n",
       "</div>"
      ],
      "text/plain": [
       "                 training  validation\n",
       "full model       0.655959    0.631179\n",
       "best fitting     0.672866    0.627376\n",
       "best predictive  0.641589    0.648923"
      ]
     },
     "execution_count": 48,
     "metadata": {},
     "output_type": "execute_result"
    }
   ],
   "source": [
    "pd.DataFrame(accuracies, index=['training', 'validation']).transpose()"
   ]
  },
  {
   "cell_type": "markdown",
   "metadata": {},
   "source": [
    "# (33)&(34)??\n",
    "The model that was optimized for performance on the training set (best-fitting) has the ?? accuracy. However, it also has the ?? accuracy on the validation set. One way to evaluate the degree of overfitting is to compare the error rates of the training and validation sets. The large difference in training set error and validation error (where training set error is smaller than validation set) indicates that the best-fitting model may be overfit to the training data.\n",
    "\n",
    "The best-predictive model (optimized for accuracy on the validation set) on the other hand, has a small difference between training and validation accuracy. Here, the accuracy on the validation set is even higher than for the training set. This can be an indication that the model is biased towards the validation set.\n",
    "\n",
    "To avoid bias towards training or validation set, it is best to use cross validation. "
   ]
  },
  {
   "cell_type": "markdown",
   "metadata": {},
   "source": [
    "__10.4.h.__ Explain how and why the best-fitting model and the best predictive models are the same or different."
   ]
  },
  {
   "cell_type": "markdown",
   "metadata": {},
   "source": [
    "While finding the best-fitted model means fitting the training data set (using\n",
    "measures like accuracy), the best predictive model is one that has highest \n",
    "prediction accuracy with the validation data."
   ]
  },
  {
   "cell_type": "markdown",
   "metadata": {},
   "source": [
    "__10.4.i.__ Use regularized logistic regression with L1 penalty on the training data. Compare its selected predictors and classification performance to the best-fitting and best predictive models."
   ]
  },
  {
   "cell_type": "code",
   "execution_count": 49,
   "metadata": {
    "scrolled": true
   },
   "outputs": [
    {
     "name": "stdout",
     "output_type": "stream",
     "text": [
      "Confusion Matrix (Accuracy 0.8834)\n",
      "\n",
      "       Prediction\n",
      "Actual   0   1\n",
      "     0 289  27\n",
      "     1  65 408\n"
     ]
    }
   ],
   "source": [
    "logit_reg_L1 = LogisticRegressionCV(cv=5, random_state=0, Cs=20, max_iter=500)\n",
    "logit_reg_L1.fit(X_train, y_train)\n",
    "\n",
    "# Confusion matrix\n",
    "classificationSummary(logit_reg_L1.predict(X_valid), val_pred, class_names=classes)\n",
    "\n",
    "\n",
    "accuracies['regularized'] = [accuracy_score(y_train, logit_reg_L1.predict(X_train)), \n",
    "                             accuracy_score(y_valid, logit_reg_L1.predict(X_valid))]"
   ]
  },
  {
   "cell_type": "code",
   "execution_count": 50,
   "metadata": {
    "scrolled": true
   },
   "outputs": [
    {
     "data": {
      "text/html": [
       "<div>\n",
       "<style scoped>\n",
       "    .dataframe tbody tr th:only-of-type {\n",
       "        vertical-align: middle;\n",
       "    }\n",
       "\n",
       "    .dataframe tbody tr th {\n",
       "        vertical-align: top;\n",
       "    }\n",
       "\n",
       "    .dataframe thead th {\n",
       "        text-align: right;\n",
       "    }\n",
       "</style>\n",
       "<table border=\"1\" class=\"dataframe\">\n",
       "  <thead>\n",
       "    <tr style=\"text-align: right;\">\n",
       "      <th></th>\n",
       "      <th>training</th>\n",
       "      <th>validation</th>\n",
       "    </tr>\n",
       "  </thead>\n",
       "  <tbody>\n",
       "    <tr>\n",
       "      <th>full model</th>\n",
       "      <td>0.655959</td>\n",
       "      <td>0.631179</td>\n",
       "    </tr>\n",
       "    <tr>\n",
       "      <th>best fitting</th>\n",
       "      <td>0.672866</td>\n",
       "      <td>0.627376</td>\n",
       "    </tr>\n",
       "    <tr>\n",
       "      <th>best predictive</th>\n",
       "      <td>0.641589</td>\n",
       "      <td>0.648923</td>\n",
       "    </tr>\n",
       "    <tr>\n",
       "      <th>regularized</th>\n",
       "      <td>0.657650</td>\n",
       "      <td>0.648923</td>\n",
       "    </tr>\n",
       "  </tbody>\n",
       "</table>\n",
       "</div>"
      ],
      "text/plain": [
       "                 training  validation\n",
       "full model       0.655959    0.631179\n",
       "best fitting     0.672866    0.627376\n",
       "best predictive  0.641589    0.648923\n",
       "regularized      0.657650    0.648923"
      ]
     },
     "execution_count": 50,
     "metadata": {},
     "output_type": "execute_result"
    }
   ],
   "source": [
    "pd.DataFrame(accuracies, index=['training', 'validation']).transpose()"
   ]
  },
  {
   "cell_type": "markdown",
   "metadata": {},
   "source": [
    "Regularization leads to a model that has good accuracy on both the training and validation set."
   ]
  },
  {
   "cell_type": "code",
   "execution_count": 51,
   "metadata": {},
   "outputs": [
    {
     "data": {
      "text/plain": [
       "<matplotlib.axes._subplots.AxesSubplot at 0x106136d30>"
      ]
     },
     "execution_count": 51,
     "metadata": {},
     "output_type": "execute_result"
    },
    {
     "data": {
      "image/png": "[encoded data removed]",
      "text/plain": [
       "<Figure size 432x288 with 1 Axes>"
      ]
     },
     "metadata": {
      "needs_background": "light"
     },
     "output_type": "display_data"
    }
   ],
   "source": [
    "cv_result = pd.DataFrame({\n",
    "    'Cs': logit_reg_L1.Cs_,\n",
    "    'cv_score': np.mean(logit_reg_L1.scores_[1], axis=0),\n",
    "    \n",
    "})\n",
    "cv_result.plot.line(x='Cs', y='cv_score', logx=True)"
   ]
  },
  {
   "cell_type": "code",
   "execution_count": 52,
   "metadata": {},
   "outputs": [
    {
     "name": "stdout",
     "output_type": "stream",
     "text": [
      "intercept  1.239216727766818\n"
     ]
    },
    {
     "data": {
      "text/html": [
       "<div>\n",
       "<style scoped>\n",
       "    .dataframe tbody tr th:only-of-type {\n",
       "        vertical-align: middle;\n",
       "    }\n",
       "\n",
       "    .dataframe tbody tr th {\n",
       "        vertical-align: top;\n",
       "    }\n",
       "\n",
       "    .dataframe thead th {\n",
       "        text-align: right;\n",
       "    }\n",
       "</style>\n",
       "<table border=\"1\" class=\"dataframe\">\n",
       "  <thead>\n",
       "    <tr style=\"text-align: right;\">\n",
       "      <th></th>\n",
       "      <th>unregularized</th>\n",
       "      <th>best_fitting</th>\n",
       "      <th>best_predictive</th>\n",
       "      <th>L1 regularized</th>\n",
       "    </tr>\n",
       "  </thead>\n",
       "  <tbody>\n",
       "    <tr>\n",
       "      <th>sellerRating</th>\n",
       "      <td>-0.000040</td>\n",
       "      <td>-0.000012</td>\n",
       "      <td>-0.000020</td>\n",
       "      <td>-0.000036</td>\n",
       "    </tr>\n",
       "    <tr>\n",
       "      <th>Duration</th>\n",
       "      <td>-0.080785</td>\n",
       "      <td>0.000000</td>\n",
       "      <td>0.000000</td>\n",
       "      <td>-0.085876</td>\n",
       "    </tr>\n",
       "    <tr>\n",
       "      <th>OpenPrice</th>\n",
       "      <td>-0.007146</td>\n",
       "      <td>-0.009041</td>\n",
       "      <td>-0.009020</td>\n",
       "      <td>-0.007419</td>\n",
       "    </tr>\n",
       "    <tr>\n",
       "      <th>Category_Books</th>\n",
       "      <td>-0.220607</td>\n",
       "      <td>0.000000</td>\n",
       "      <td>0.000000</td>\n",
       "      <td>-0.437808</td>\n",
       "    </tr>\n",
       "    <tr>\n",
       "      <th>Category_Clothing/Accessories</th>\n",
       "      <td>0.285479</td>\n",
       "      <td>0.000000</td>\n",
       "      <td>0.000000</td>\n",
       "      <td>-0.038999</td>\n",
       "    </tr>\n",
       "    <tr>\n",
       "      <th>Category_Coins/Stamps</th>\n",
       "      <td>-0.815631</td>\n",
       "      <td>0.000000</td>\n",
       "      <td>0.000000</td>\n",
       "      <td>-0.450466</td>\n",
       "    </tr>\n",
       "    <tr>\n",
       "      <th>Category_Collectibles</th>\n",
       "      <td>0.442175</td>\n",
       "      <td>0.000000</td>\n",
       "      <td>0.000000</td>\n",
       "      <td>0.442809</td>\n",
       "    </tr>\n",
       "    <tr>\n",
       "      <th>Category_Computer</th>\n",
       "      <td>0.982360</td>\n",
       "      <td>0.639226</td>\n",
       "      <td>0.000000</td>\n",
       "      <td>0.567203</td>\n",
       "    </tr>\n",
       "    <tr>\n",
       "      <th>Category_Electronics</th>\n",
       "      <td>1.540873</td>\n",
       "      <td>1.128596</td>\n",
       "      <td>1.039034</td>\n",
       "      <td>1.125243</td>\n",
       "    </tr>\n",
       "    <tr>\n",
       "      <th>Category_EverythingElse</th>\n",
       "      <td>-1.887026</td>\n",
       "      <td>0.000000</td>\n",
       "      <td>-0.479445</td>\n",
       "      <td>-0.455946</td>\n",
       "    </tr>\n",
       "    <tr>\n",
       "      <th>Category_Health/Beauty</th>\n",
       "      <td>-1.728272</td>\n",
       "      <td>-2.077200</td>\n",
       "      <td>0.000000</td>\n",
       "      <td>-1.426092</td>\n",
       "    </tr>\n",
       "    <tr>\n",
       "      <th>Category_Home/Garden</th>\n",
       "      <td>0.619485</td>\n",
       "      <td>0.000000</td>\n",
       "      <td>0.000000</td>\n",
       "      <td>0.464107</td>\n",
       "    </tr>\n",
       "    <tr>\n",
       "      <th>Category_Jewelry</th>\n",
       "      <td>-0.301259</td>\n",
       "      <td>-0.817193</td>\n",
       "      <td>0.000000</td>\n",
       "      <td>-0.649345</td>\n",
       "    </tr>\n",
       "    <tr>\n",
       "      <th>Category_Music/Movie/Game</th>\n",
       "      <td>0.503799</td>\n",
       "      <td>0.000000</td>\n",
       "      <td>0.586934</td>\n",
       "      <td>0.386435</td>\n",
       "    </tr>\n",
       "    <tr>\n",
       "      <th>Category_Photography</th>\n",
       "      <td>1.282746</td>\n",
       "      <td>0.000000</td>\n",
       "      <td>0.000000</td>\n",
       "      <td>0.236325</td>\n",
       "    </tr>\n",
       "    <tr>\n",
       "      <th>Category_Pottery/Glass</th>\n",
       "      <td>-0.332043</td>\n",
       "      <td>0.000000</td>\n",
       "      <td>0.000000</td>\n",
       "      <td>-0.168076</td>\n",
       "    </tr>\n",
       "    <tr>\n",
       "      <th>Category_SportingGoods</th>\n",
       "      <td>1.358508</td>\n",
       "      <td>0.000000</td>\n",
       "      <td>1.173969</td>\n",
       "      <td>1.271161</td>\n",
       "    </tr>\n",
       "    <tr>\n",
       "      <th>Category_Toys/Hobbies</th>\n",
       "      <td>0.648472</td>\n",
       "      <td>0.143210</td>\n",
       "      <td>0.000000</td>\n",
       "      <td>0.608254</td>\n",
       "    </tr>\n",
       "    <tr>\n",
       "      <th>currency_GBP</th>\n",
       "      <td>0.958213</td>\n",
       "      <td>0.000000</td>\n",
       "      <td>0.000000</td>\n",
       "      <td>0.244927</td>\n",
       "    </tr>\n",
       "    <tr>\n",
       "      <th>currency_US</th>\n",
       "      <td>-0.095301</td>\n",
       "      <td>0.000000</td>\n",
       "      <td>0.000000</td>\n",
       "      <td>-0.048313</td>\n",
       "    </tr>\n",
       "    <tr>\n",
       "      <th>endDay_Sat</th>\n",
       "      <td>-1.239433</td>\n",
       "      <td>-1.033639</td>\n",
       "      <td>0.000000</td>\n",
       "      <td>-1.201499</td>\n",
       "    </tr>\n",
       "    <tr>\n",
       "      <th>endDay_Sun_Fri</th>\n",
       "      <td>-0.954428</td>\n",
       "      <td>-0.749508</td>\n",
       "      <td>0.000000</td>\n",
       "      <td>-0.791568</td>\n",
       "    </tr>\n",
       "    <tr>\n",
       "      <th>endDay_Thu</th>\n",
       "      <td>-1.012888</td>\n",
       "      <td>0.000000</td>\n",
       "      <td>0.000000</td>\n",
       "      <td>-0.186941</td>\n",
       "    </tr>\n",
       "    <tr>\n",
       "      <th>endDay_Tue</th>\n",
       "      <td>-0.740699</td>\n",
       "      <td>-0.599479</td>\n",
       "      <td>0.000000</td>\n",
       "      <td>-0.445839</td>\n",
       "    </tr>\n",
       "    <tr>\n",
       "      <th>endDay_Wed</th>\n",
       "      <td>-0.915220</td>\n",
       "      <td>0.000000</td>\n",
       "      <td>0.000000</td>\n",
       "      <td>-0.470326</td>\n",
       "    </tr>\n",
       "  </tbody>\n",
       "</table>\n",
       "</div>"
      ],
      "text/plain": [
       "                               unregularized  best_fitting  best_predictive  \\\n",
       "sellerRating                       -0.000040     -0.000012        -0.000020   \n",
       "Duration                           -0.080785      0.000000         0.000000   \n",
       "OpenPrice                          -0.007146     -0.009041        -0.009020   \n",
       "Category_Books                     -0.220607      0.000000         0.000000   \n",
       "Category_Clothing/Accessories       0.285479      0.000000         0.000000   \n",
       "Category_Coins/Stamps              -0.815631      0.000000         0.000000   \n",
       "Category_Collectibles               0.442175      0.000000         0.000000   \n",
       "Category_Computer                   0.982360      0.639226         0.000000   \n",
       "Category_Electronics                1.540873      1.128596         1.039034   \n",
       "Category_EverythingElse            -1.887026      0.000000        -0.479445   \n",
       "Category_Health/Beauty             -1.728272     -2.077200         0.000000   \n",
       "Category_Home/Garden                0.619485      0.000000         0.000000   \n",
       "Category_Jewelry                   -0.301259     -0.817193         0.000000   \n",
       "Category_Music/Movie/Game           0.503799      0.000000         0.586934   \n",
       "Category_Photography                1.282746      0.000000         0.000000   \n",
       "Category_Pottery/Glass             -0.332043      0.000000         0.000000   \n",
       "Category_SportingGoods              1.358508      0.000000         1.173969   \n",
       "Category_Toys/Hobbies               0.648472      0.143210         0.000000   \n",
       "currency_GBP                        0.958213      0.000000         0.000000   \n",
       "currency_US                        -0.095301      0.000000         0.000000   \n",
       "endDay_Sat                         -1.239433     -1.033639         0.000000   \n",
       "endDay_Sun_Fri                     -0.954428     -0.749508         0.000000   \n",
       "endDay_Thu                         -1.012888      0.000000         0.000000   \n",
       "endDay_Tue                         -0.740699     -0.599479         0.000000   \n",
       "endDay_Wed                         -0.915220      0.000000         0.000000   \n",
       "\n",
       "                               L1 regularized  \n",
       "sellerRating                        -0.000036  \n",
       "Duration                            -0.085876  \n",
       "OpenPrice                           -0.007419  \n",
       "Category_Books                      -0.437808  \n",
       "Category_Clothing/Accessories       -0.038999  \n",
       "Category_Coins/Stamps               -0.450466  \n",
       "Category_Collectibles                0.442809  \n",
       "Category_Computer                    0.567203  \n",
       "Category_Electronics                 1.125243  \n",
       "Category_EverythingElse             -0.455946  \n",
       "Category_Health/Beauty              -1.426092  \n",
       "Category_Home/Garden                 0.464107  \n",
       "Category_Jewelry                    -0.649345  \n",
       "Category_Music/Movie/Game            0.386435  \n",
       "Category_Photography                 0.236325  \n",
       "Category_Pottery/Glass              -0.168076  \n",
       "Category_SportingGoods               1.271161  \n",
       "Category_Toys/Hobbies                0.608254  \n",
       "currency_GBP                         0.244927  \n",
       "currency_US                         -0.048313  \n",
       "endDay_Sat                          -1.201499  \n",
       "endDay_Sun_Fri                      -0.791568  \n",
       "endDay_Thu                          -0.186941  \n",
       "endDay_Tue                          -0.445839  \n",
       "endDay_Wed                          -0.470326  "
      ]
     },
     "execution_count": 52,
     "metadata": {},
     "output_type": "execute_result"
    }
   ],
   "source": [
    "# print coefficients\n",
    "print('intercept ', logit_reg.intercept_[0])\n",
    "coefficients = pd.DataFrame({\n",
    "    'unregularized': logit_reg.coef_[0], \n",
    "    'best_fitting': 0,\n",
    "    'best_predictive': 0,\n",
    "    'L1 regularized': logit_reg_L1.coef_[0],\n",
    "    }, index=X_train.columns)\n",
    "coefficients.loc[var_fitting, 'best_fitting'] = best_fitting.coef_.ravel()\n",
    "coefficients.loc[var_predictive, 'best_predictive'] = best_predictive.coef_.ravel()\n",
    "coefficients"
   ]
  },
  {
   "cell_type": "markdown",
   "metadata": {},
   "source": [
    "In general, we can see that for cases where both the best_fitting and the best_predictive model exclude a predictor, the coefficient in the regularized model is also closer to zero compared to the unregularized model."
   ]
  },
  {
   "cell_type": "markdown",
   "metadata": {},
   "source": [
    "__10.4.j.__ If the major objective is accurate classification, what cutoff value should be used?"
   ]
  },
  {
   "cell_type": "code",
   "execution_count": 53,
   "metadata": {},
   "outputs": [
    {
     "data": {
      "text/html": [
       "<div>\n",
       "<style scoped>\n",
       "    .dataframe tbody tr th:only-of-type {\n",
       "        vertical-align: middle;\n",
       "    }\n",
       "\n",
       "    .dataframe tbody tr th {\n",
       "        vertical-align: top;\n",
       "    }\n",
       "\n",
       "    .dataframe thead th {\n",
       "        text-align: right;\n",
       "    }\n",
       "</style>\n",
       "<table border=\"1\" class=\"dataframe\">\n",
       "  <thead>\n",
       "    <tr style=\"text-align: right;\">\n",
       "      <th></th>\n",
       "      <th>cutoff</th>\n",
       "      <th>accuracy</th>\n",
       "    </tr>\n",
       "  </thead>\n",
       "  <tbody>\n",
       "    <tr>\n",
       "      <th>505</th>\n",
       "      <td>0.505</td>\n",
       "      <td>0.651458</td>\n",
       "    </tr>\n",
       "    <tr>\n",
       "      <th>506</th>\n",
       "      <td>0.506</td>\n",
       "      <td>0.655260</td>\n",
       "    </tr>\n",
       "    <tr>\n",
       "      <th>507</th>\n",
       "      <td>0.507</td>\n",
       "      <td>0.653992</td>\n",
       "    </tr>\n",
       "  </tbody>\n",
       "</table>\n",
       "</div>"
      ],
      "text/plain": [
       "     cutoff  accuracy\n",
       "505   0.505  0.651458\n",
       "506   0.506  0.655260\n",
       "507   0.507  0.653992"
      ]
     },
     "execution_count": 53,
     "metadata": {},
     "output_type": "execute_result"
    },
    {
     "data": {
      "image/png": "[encoded data removed]",
      "text/plain": [
       "<Figure size 432x288 with 1 Axes>"
      ]
     },
     "metadata": {
      "needs_background": "light"
     },
     "output_type": "display_data"
    }
   ],
   "source": [
    "# Determine accuracy for different cutoff values between 0 and 1\n",
    "data = []\n",
    "for cutoff in [v / 1000 for v in range(1001)]:\n",
    "    data.append({'cutoff': cutoff, \n",
    "                 'accuracy': accuracy_score(y_valid, logit_reg_L1.predict_proba(X_valid)[:, 1] > cutoff)})\n",
    "data = pd.DataFrame(data)\n",
    "ax = data.plot.line(x='cutoff', y='accuracy')\n",
    "ax.axvline(x=0.5)\n",
    "\n",
    "data.iloc[data['accuracy'].argmax() - 1:data['accuracy'].argmax() + 2, :]"
   ]
  },
  {
   "cell_type": "markdown",
   "metadata": {},
   "source": [
    "The highest accuracy is achieved with the default cutoff close to 0.5"
   ]
  },
  {
   "cell_type": "markdown",
   "metadata": {},
   "source": [
    "__1k.__ Based on these data, what auction settings set by the seller (duration, opening price, ending day, currency) would you recommend as being most likely to lead to a competitive auction?"
   ]
  },
  {
   "cell_type": "code",
   "execution_count": null,
   "metadata": {},
   "outputs": [],
   "source": [
    "# (35)??\n",
    "# write your answer here"
   ]
  }
 ],
 "metadata": {
  "kernelspec": {
   "display_name": "Python 3 (ipykernel)",
   "language": "python",
   "name": "python3"
  },
  "language_info": {
   "codemirror_mode": {
    "name": "ipython",
    "version": 3
   },
   "file_extension": ".py",
   "mimetype": "text/x-python",
   "name": "python",
   "nbconvert_exporter": "python",
   "pygments_lexer": "ipython3",
   "version": "3.11.0rc2"
  }
 },
 "nbformat": 4,
 "nbformat_minor": 2
}
